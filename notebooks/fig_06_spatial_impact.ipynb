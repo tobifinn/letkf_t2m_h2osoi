{
 "cells": [
  {
   "cell_type": "code",
   "execution_count": null,
   "metadata": {},
   "outputs": [],
   "source": [
    "import os\n",
    "from copy import deepcopy\n",
    "\n",
    "import xarray as xr\n",
    "import numpy as np\n",
    "import pandas as pd\n",
    "import scipy.stats\n",
    "import scipy.ndimage\n",
    "from tqdm import tqdm_notebook as tqdm\n",
    "\n",
    "import distributed\n",
    "\n",
    "from cartopy.mpl.ticker import LongitudeFormatter, LatitudeFormatter\n",
    "import matplotlib.pyplot as plt\n",
    "import matplotlib.colors as mplc\n",
    "import cartopy.crs as ccrs\n",
    "import matplotlib.dates as mdates\n",
    "import matplotlib.lines as mpll\n",
    "import matplotlib.gridspec as gs\n",
    "from pandas.plotting import register_matplotlib_converters"
   ]
  },
  {
   "cell_type": "code",
   "execution_count": null,
   "metadata": {},
   "outputs": [],
   "source": [
    "rnd = np.random.RandomState(42)"
   ]
  },
  {
   "cell_type": "code",
   "execution_count": null,
   "metadata": {},
   "outputs": [],
   "source": [
    "plt.style.use('paper')\n",
    "plt.style.use('egu_journals')\n",
    "plt.rcParams['text.usetex'] = False\n",
    "register_matplotlib_converters()\n",
    "rotated_pole = ccrs.RotatedPole(pole_longitude=-171.0, pole_latitude=41.5)\n",
    "plate_carree = ccrs.PlateCarree()"
   ]
  },
  {
   "cell_type": "raw",
   "metadata": {},
   "source": [
    "cluster = distributed.LocalCluster(local_directory='/tmp', n_workers=4, max_memory_per_worker='4GB')\n",
    "client = distributed.Client(cluster)\n",
    "client"
   ]
  },
  {
   "cell_type": "markdown",
   "metadata": {},
   "source": [
    "# Load data"
   ]
  },
  {
   "cell_type": "code",
   "execution_count": null,
   "metadata": {},
   "outputs": [],
   "source": [
    "base_path = '/work/um0203/u300636/for2131/runs/'"
   ]
  },
  {
   "cell_type": "markdown",
   "metadata": {},
   "source": [
    "## H2O"
   ]
  },
  {
   "cell_type": "raw",
   "metadata": {},
   "source": [
    "aux_path = '/work/um0203/u300636/for2131/runs/utilities/clm_aux.nc'\n",
    "ds_aux = xr.open_dataset(aux_path)"
   ]
  },
  {
   "cell_type": "code",
   "execution_count": null,
   "metadata": {},
   "outputs": [],
   "source": [
    "vr_h2o_path = os.path.join(base_path, 'da_enkf_for_soil', '016', 'h2o_cleaned.nc')\n",
    "vr_h2o = xr.open_dataset(vr_h2o_path)['H2OSOI'].squeeze(drop=True).isel(levsoi=4).sel(time='2015-08-07 18:00')"
   ]
  },
  {
   "cell_type": "code",
   "execution_count": null,
   "metadata": {},
   "outputs": [],
   "source": [
    "det_h2o_path = os.path.join(base_path, 'da_enkf_for_soil', '018', 'h2o_cleaned.nc')\n",
    "det_h2o = xr.open_dataset(det_h2o_path)['H2OSOI'].squeeze(drop=True).isel(levsoi=4).sel(time='2015-08-07 18:00')"
   ]
  },
  {
   "cell_type": "code",
   "execution_count": null,
   "metadata": {},
   "outputs": [],
   "source": [
    "ens_h2o_path = os.path.join(base_path, 'da_enkf_for_soil', '015', 'h2o_cleaned.nc')\n",
    "ens_h2o = xr.open_dataset(ens_h2o_path)['H2OSOI'].squeeze(drop=True).isel(levsoi=4).sel(time='2015-08-07 18:00')"
   ]
  },
  {
   "cell_type": "code",
   "execution_count": null,
   "metadata": {},
   "outputs": [],
   "source": [
    "da_off_h2o_path = os.path.join(base_path, 'da_enkf_for_soil', '019', 'h2o_cleaned.nc')\n",
    "da_off_h2o = xr.open_dataset(da_off_h2o_path)['H2OSOI'].squeeze(drop=True).isel(levsoi=4).sel(time='2015-08-07 18:00')"
   ]
  },
  {
   "cell_type": "code",
   "execution_count": null,
   "metadata": {},
   "outputs": [],
   "source": [
    "sekf_h2o_path = os.path.join(base_path, 'da_enkf_for_soil', '023', 'juwels', 'h2o_cleaned.nc')\n",
    "sekf_h2o = xr.open_dataarray(sekf_h2o_path).squeeze(drop=True).isel(levsoi=4).sel(time='2015-08-07 18:00')"
   ]
  },
  {
   "cell_type": "markdown",
   "metadata": {},
   "source": [
    "## Load observations"
   ]
  },
  {
   "cell_type": "code",
   "execution_count": null,
   "metadata": {},
   "outputs": [],
   "source": [
    "stations_path = os.path.join(base_path, 'utilities', 'stations.hd5')\n",
    "ds_stations = pd.read_hdf(stations_path)"
   ]
  },
  {
   "cell_type": "markdown",
   "metadata": {},
   "source": [
    "# Estimate assimilation impact"
   ]
  },
  {
   "cell_type": "code",
   "execution_count": null,
   "metadata": {},
   "outputs": [],
   "source": [
    "def calc_bounds(grid):\n",
    "    grid_delta = np.mean(np.diff(grid))\n",
    "    new_grid = np.concatenate((grid, [grid[-1]+grid_delta]), axis=0)\n",
    "    new_grid -= grid_delta / 2\n",
    "    return new_grid\n",
    "\n",
    "def calc_pcolormesh_grid(*orig_grid):\n",
    "    new_grids = tuple([calc_bounds(g) for g in orig_grid])\n",
    "    return new_grids"
   ]
  },
  {
   "cell_type": "code",
   "execution_count": null,
   "metadata": {},
   "outputs": [],
   "source": [
    "da_off_inc = (da_off_h2o.mean('ensemble')-ens_h2o.mean('ensemble'))\n",
    "sekf_inc = (sekf_h2o-det_h2o)"
   ]
  },
  {
   "cell_type": "code",
   "execution_count": null,
   "metadata": {},
   "outputs": [],
   "source": [
    "da_off_err = (da_off_h2o.mean('ensemble')-vr_h2o)\n",
    "sekf_err = (sekf_h2o-vr_h2o)\n",
    "\n",
    "ens_err = (ens_h2o.mean('ensemble')-vr_h2o)\n",
    "det_err = (det_h2o-vr_h2o)"
   ]
  },
  {
   "cell_type": "code",
   "execution_count": null,
   "metadata": {},
   "outputs": [],
   "source": [
    "pcm_lon_lat = calc_pcolormesh_grid(da_off_err.lon.values, da_off_err.lat.values)\n",
    "cmap = plt.get_cmap('BrBG')\n",
    "norm = mplc.BoundaryNorm(np.linspace(-0.075, 0.075, 51), cmap.N, clip=True)"
   ]
  },
  {
   "cell_type": "code",
   "execution_count": null,
   "metadata": {},
   "outputs": [],
   "source": []
  },
  {
   "cell_type": "code",
   "execution_count": null,
   "metadata": {},
   "outputs": [],
   "source": [
    "grid_spec = gs.GridSpec(2, 41, wspace=0, hspace=0)\n",
    "\n",
    "figsize = [s for s in plt.rcParams['figure.figsize']]\n",
    "\n",
    "figure = plt.figure(dpi=300, figsize=figsize)\n",
    "ax_ens = figure.add_subplot(grid_spec[0, :20])\n",
    "ax_ls_inc = figure.add_subplot(grid_spec[0, 20:40])\n",
    "ax_ls_err = figure.add_subplot(grid_spec[1, :20])\n",
    "ax_se_err = figure.add_subplot(grid_spec[1, 20:40])\n",
    "ax_cbar = figure.add_subplot(grid_spec[:, 40:])\n",
    "\n",
    "ax_ens.pcolormesh(*pcm_lon_lat, ens_err, vmin=-0.075, vmax=0.075, cmap=cmap, norm=norm)\n",
    "\n",
    "#ax_det.pcolormesh(*pcm_lon_lat, det_err, vmin=-0.075, vmax=0.075, cmap=cmap, norm=norm)\n",
    "ax_ls_err.pcolormesh(*pcm_lon_lat, da_off_err, vmin=-0.075, vmax=0.075, cmap=cmap, norm=norm)\n",
    "ax_se_err.pcolormesh(*pcm_lon_lat, sekf_err, vmin=-0.075, vmax=0.075, cmap=cmap, norm=norm)\n",
    "cf=ax_ls_inc.pcolormesh(*pcm_lon_lat, da_off_inc, vmin=-0.075, vmax=0.075, cmap=cmap, norm=norm)\n",
    "ax_ls_inc.scatter(ds_stations['Länge'], ds_stations['Breite'], s=5, marker='x', color='black', zorder=1)\n",
    "\n",
    "#cf = ax_se_inc.pcolormesh(*pcm_lon_lat, sekf_inc, vmin=-0.075, vmax=0.075, cmap=cmap, norm=norm)\n",
    "\n",
    "cbar = plt.colorbar(cf, cax=ax_cbar)\n",
    "cbar.set_label('Difference in soil moisture (m$^3$/m$^3$)')\n",
    "cbar.set_ticks(np.linspace(-0.075, 0.075, 7))\n",
    "\n",
    "ax_ens.text(x=0.02, y=0.925, s='(a)', c='black', transform=ax_ens.transAxes, va='center', ha='left')\n",
    "ax_ls_inc.text(x=0.02, y=0.925, s='(b)', c='black', transform=ax_ls_inc.transAxes, va='center', ha='left')\n",
    "ax_ls_err.text(x=0.02, y=0.925, s='(c)', c='black', transform=ax_ls_err.transAxes, va='center', ha='left')\n",
    "ax_se_err.text(x=0.02, y=0.925, s='(d)', c='black', transform=ax_se_err.transAxes, va='center', ha='left')\n",
    "#ax_det.text(x=0.02, y=0.925, s='(b)', c='black', transform=ax_det.transAxes, va='center', ha='left'\n",
    "#ax_se_inc.text(x=0.02, y=0.925, s='(f)', c='black', transform=ax_se_inc.transAxes, va='center', ha='left')\n",
    "\n",
    "# ax_ens.text(x=0.02, y=0.075, s='Error ENS to NATURE', c='black', transform=ax_ens.transAxes, va='center', ha='left', zorder=2,\n",
    "#             bbox=dict(facecolor='white', linewidth=0))\n",
    "# #ax_det.text(x=0.02, y=0.075, s='Error DET to NATURE', c='black', transform=ax_det.transAxes, va='center', ha='left')\n",
    "# ax_ls_err.text(x=0.02, y=0.075, s='Error LETKF Soil to NATURE', c='black', transform=ax_ls_err.transAxes, va='center', ha='left')\n",
    "# ax_se_err.text(x=0.02, y=0.075, s='Error SEKF to NATURE', c='black', transform=ax_se_err.transAxes, va='center', ha='left')\n",
    "# ax_ls_inc.text(x=0.02, y=0.075, s='Increment LETKF Soil to ENS', c='black', transform=ax_ls_inc.transAxes, va='center', ha='left')\n",
    "#ax_se_inc.text(x=0.02, y=0.075, s='Increment SEKF to DET', c='black', transform=ax_se_inc.transAxes, va='center', ha='left')\n",
    "\n",
    "ax_ens.set_ylim(*pcm_lon_lat[1][[0, -1]])\n",
    "ax_ls_err.set_ylim(*pcm_lon_lat[1][[0, -1]])\n",
    "ax_se_err.set_ylim(*pcm_lon_lat[1][[0, -1]])\n",
    "ax_ls_inc.set_ylim(*pcm_lon_lat[1][[0, -1]])\n",
    "\n",
    "ax_se_err.set_yticks([])\n",
    "ax_ls_inc.set_yticks([])\n",
    "\n",
    "ax_ens.set_ylabel('Latitude (deg)')\n",
    "ax_ls_err.set_ylabel('Latitude (deg)')\n",
    "\n",
    "\n",
    "ax_ens.set_xlim(*pcm_lon_lat[0][[0, -1]])\n",
    "ax_ls_err.set_xlim(*pcm_lon_lat[0][[0, -1]])\n",
    "ax_se_err.set_xlim(*pcm_lon_lat[0][[0, -1]])\n",
    "ax_ls_inc.set_xlim(*pcm_lon_lat[0][[0, -1]])\n",
    "\n",
    "ax_ens.set_xticks([])\n",
    "ax_ls_err.set_xticks([8, 9, 10])\n",
    "ax_se_err.set_xticks([8, 9, 10])\n",
    "ax_ls_inc.set_xticks([])\n",
    "\n",
    "ax_ls_err.set_xlabel('Longitude (deg)')\n",
    "ax_se_err.set_xlabel('Longitude (deg)')\n",
    "\n",
    "plt.show()\n",
    "figure.savefig('../figures/fig_06_spatial_impact.png', dpi=300)"
   ]
  },
  {
   "cell_type": "code",
   "execution_count": null,
   "metadata": {},
   "outputs": [],
   "source": []
  }
 ],
 "metadata": {
  "kernelspec": {
   "display_name": "Python [conda env:analysis]",
   "language": "python",
   "name": "conda-env-analysis-py"
  },
  "language_info": {
   "codemirror_mode": {
    "name": "ipython",
    "version": 3
   },
   "file_extension": ".py",
   "mimetype": "text/x-python",
   "name": "python",
   "nbconvert_exporter": "python",
   "pygments_lexer": "ipython3",
   "version": "3.7.7"
  }
 },
 "nbformat": 4,
 "nbformat_minor": 4
}

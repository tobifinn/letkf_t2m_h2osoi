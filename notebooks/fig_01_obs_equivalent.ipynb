{
 "cells": [
  {
   "cell_type": "code",
   "execution_count": null,
   "metadata": {},
   "outputs": [],
   "source": [
    "import os\n",
    "\n",
    "from tqdm.notebook import tqdm\n",
    "import numpy as np\n",
    "import xarray as xr\n",
    "\n",
    "import matplotlib.pyplot as plt\n",
    "import cartopy.crs as ccrs\n",
    "import matplotlib.colors as mpl_c\n",
    "import matplotlib.patches as mpl_p\n",
    "\n",
    "from py_bacy.intf_pytassim import clm, io\n",
    "from pytassim.localization import GaspariCohn\n",
    "from pytassim.assimilation.base import BaseAssimilation"
   ]
  },
  {
   "cell_type": "code",
   "execution_count": null,
   "metadata": {},
   "outputs": [],
   "source": [
    "plt.style.use('paper')\n",
    "plt.style.use('egu_journals')"
   ]
  },
  {
   "cell_type": "code",
   "execution_count": null,
   "metadata": {},
   "outputs": [],
   "source": [
    "base_path = '/work/um0203/u300636/for2131/runs/'"
   ]
  },
  {
   "cell_type": "code",
   "execution_count": null,
   "metadata": {},
   "outputs": [],
   "source": [
    "clm_const = clm.load_constant_data(os.path.join(base_path, 'utilities'))\n",
    "clm_grid_xr = clm_const.isel(levels=[9]).stack(grid_points=['lat', 'lon', 'levels']).grid_points\n",
    "clm_grid = BaseAssimilation()._grid_index_to_array(clm_grid_xr)"
   ]
  },
  {
   "cell_type": "code",
   "execution_count": null,
   "metadata": {},
   "outputs": [],
   "source": [
    "ds_obs = io.load_observations(os.path.join(base_path, 'obs', 'ens', 't2m_obs_016_0_1_long.nc'))\n",
    "obs_grid = ds_obs['obs_grid_1']\n",
    "obs_grid = BaseAssimilation()._grid_index_to_array(obs_grid)"
   ]
  },
  {
   "cell_type": "code",
   "execution_count": null,
   "metadata": {},
   "outputs": [],
   "source": [
    "gc = GaspariCohn((15000, 0.7), clm.distance_func)"
   ]
  },
  {
   "cell_type": "code",
   "execution_count": null,
   "metadata": {},
   "outputs": [],
   "source": [
    "obs_equivalent = []\n",
    "for gp in tqdm(clm_grid):\n",
    "    tmp_equi = gc.localize_obs(gp, obs_grid)[1].sum()\n",
    "    obs_equivalent.append(tmp_equi)\n",
    "    \n",
    "obs_equivalent = xr.DataArray(\n",
    "    obs_equivalent,\n",
    "    coords={'grid_points': clm_grid_xr},\n",
    "    dims=['grid_points']\n",
    ")\n",
    "obs_equivalent = obs_equivalent.unstack('grid_points')"
   ]
  },
  {
   "cell_type": "code",
   "execution_count": null,
   "metadata": {},
   "outputs": [],
   "source": [
    "figsize = [s*0.48 for s in plt.rcParams['figure.figsize']]\n",
    "fig = plt.figure(figsize=figsize)\n",
    "ax = fig.add_subplot()\n",
    "norm = mpl_c.Normalize(vmin=0.,vmax=2)\n",
    "cf = ax.contourf(obs_equivalent['lon'].values, obs_equivalent['lat'].values, obs_equivalent.values.squeeze(),\n",
    "                 levels=list(np.linspace(0, 2, 21))+[2.1], cmap='RdBu_r', norm=norm)\n",
    "\n",
    "cbar = fig.colorbar(cf, fraction=0.046, pad=0.04)\n",
    "cbar.set_ticks(np.arange(0, 2.5, 0.5))\n",
    "cbar.set_label('Observational equivalent')\n",
    "ax.set_xlim(7.491, 10.72)\n",
    "ax.set_xticks(np.arange(7.5, 11, 0.5))\n",
    "ax.set_xlabel(r'Longitude ($^\\circ$)')\n",
    "ax.set_ylabel(r'Latitude ($^\\circ$)')\n",
    "ax.spines['right'].set_visible(True)\n",
    "ax.spines['top'].set_visible(True)\n",
    "fig.savefig('../figures/fig_02_obs_equivalent.png', dpi=300)\n",
    "plt.show()"
   ]
  },
  {
   "cell_type": "code",
   "execution_count": null,
   "metadata": {},
   "outputs": [],
   "source": []
  }
 ],
 "metadata": {
  "kernelspec": {
   "display_name": "Python (pytassim-dev)",
   "language": "python",
   "name": "pytassim-dev"
  },
  "language_info": {
   "codemirror_mode": {
    "name": "ipython",
    "version": 3
   },
   "file_extension": ".py",
   "mimetype": "text/x-python",
   "name": "python",
   "nbconvert_exporter": "python",
   "pygments_lexer": "ipython3",
   "version": "3.7.7"
  }
 },
 "nbformat": 4,
 "nbformat_minor": 4
}

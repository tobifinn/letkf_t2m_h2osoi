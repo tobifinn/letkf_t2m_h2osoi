{
 "cells": [
  {
   "cell_type": "code",
   "execution_count": null,
   "metadata": {},
   "outputs": [],
   "source": [
    "import os\n",
    "import pickle as pk\n",
    "from ipywidgets import interact\n",
    "from copy import deepcopy\n",
    "\n",
    "from tqdm import tqdm_notebook as tqdm\n",
    "\n",
    "import xarray as xr\n",
    "import numpy as np\n",
    "import pandas as pd\n",
    "\n",
    "import distributed\n",
    "\n",
    "from cartopy.mpl.ticker import LongitudeFormatter, LatitudeFormatter\n",
    "import matplotlib.pyplot as plt\n",
    "import matplotlib.colors\n",
    "import cartopy.crs as ccrs\n",
    "import matplotlib.dates as mdates\n",
    "from pandas.plotting import register_matplotlib_converters\n",
    "\n",
    "from pytassim.localization import GaspariCohn\n",
    "from pytassim.model.terrsysmp import preprocess_cosmo\n",
    "from pytassim.obs_ops.terrsysmp import CosmoT2mOperator\n",
    "from pytassim.assimilation import LETKFUncorr\n",
    "from py_bacy.intf_pytassim.io import load_observations\n",
    "from py_bacy.intf_pytassim.clm import distance_func"
   ]
  },
  {
   "cell_type": "code",
   "execution_count": null,
   "metadata": {},
   "outputs": [],
   "source": [
    "rnd = np.random.RandomState(42)"
   ]
  },
  {
   "cell_type": "code",
   "execution_count": null,
   "metadata": {},
   "outputs": [],
   "source": [
    "DENSITY = 1000"
   ]
  },
  {
   "cell_type": "code",
   "execution_count": null,
   "metadata": {},
   "outputs": [],
   "source": [
    "plt.style.use('paper')\n",
    "plt.style.use('egu_journals')\n",
    "register_matplotlib_converters()"
   ]
  },
  {
   "cell_type": "code",
   "execution_count": null,
   "metadata": {},
   "outputs": [],
   "source": [
    "rotated_pole = ccrs.RotatedPole(pole_longitude=-171.0, pole_latitude=41.5)\n",
    "plate_carree = ccrs.PlateCarree()"
   ]
  },
  {
   "cell_type": "code",
   "execution_count": null,
   "metadata": {},
   "outputs": [],
   "source": [
    "cluster = distributed.LocalCluster(n_workers=1, threads_per_worker=1, memory_limit='4GB')\n",
    "client = distributed.Client(cluster)\n",
    "client"
   ]
  },
  {
   "cell_type": "markdown",
   "metadata": {},
   "source": [
    "# Load data"
   ]
  },
  {
   "cell_type": "code",
   "execution_count": null,
   "metadata": {},
   "outputs": [],
   "source": [
    "base_path = '/p/project/chbn29/hbn29p/Projects/phd_thesis/data/da_enkf_for_soil/'"
   ]
  },
  {
   "cell_type": "markdown",
   "metadata": {},
   "source": [
    "## H2O"
   ]
  },
  {
   "cell_type": "code",
   "execution_count": null,
   "metadata": {},
   "outputs": [],
   "source": [
    "vr_h2o_path = os.path.join(base_path, '016', 'h2o_cleaned.nc')\n",
    "vr_h2o = xr.open_dataset(vr_h2o_path)['H2OSOI'].squeeze(drop=True).isel(levsoi=4).chunk((1, 302, 267))"
   ]
  },
  {
   "cell_type": "code",
   "execution_count": null,
   "metadata": {},
   "outputs": [],
   "source": [
    "da_h2o_first_path = os.path.join(base_path, '015', 'h2o_cleaned.nc')\n",
    "da_h2o_first = xr.open_dataset(da_h2o_first_path)['H2OSOI'].squeeze(drop=True).isel(levsoi=4).chunk((10, 1, 302, 267))"
   ]
  },
  {
   "cell_type": "code",
   "execution_count": null,
   "metadata": {},
   "outputs": [],
   "source": [
    "da_h2o_path = os.path.join(base_path, '020', 'h2o_cleaned.nc')\n",
    "da_h2o = xr.open_dataset(da_h2o_path)['H2OSOI'].squeeze(drop=True).isel(levsoi=4).chunk((10, 1, 302, 267))"
   ]
  },
  {
   "cell_type": "code",
   "execution_count": null,
   "metadata": {},
   "outputs": [],
   "source": [
    "da_h2o = xr.concat([da_h2o_first.sel(time='2015-07-31 12:00'), da_h2o], dim='time')"
   ]
  },
  {
   "cell_type": "markdown",
   "metadata": {},
   "source": [
    "## T2m"
   ]
  },
  {
   "cell_type": "code",
   "execution_count": null,
   "metadata": {},
   "outputs": [],
   "source": [
    "vr_t2m_path = os.path.join(base_path, '016', 't2m_cleaned.nc')\n",
    "vr_t2m = xr.open_dataset(vr_t2m_path)['T_2M'].squeeze(drop=True).chunk((1, 109, 98))"
   ]
  },
  {
   "cell_type": "code",
   "execution_count": null,
   "metadata": {},
   "outputs": [],
   "source": [
    "da_t2m_path = os.path.join(base_path, '020', 't2m_cleaned.nc')\n",
    "da_t2m = xr.open_dataset(da_t2m_path)['T_2M'].squeeze(drop=True).chunk((10, 1, 109, 98))"
   ]
  },
  {
   "cell_type": "code",
   "execution_count": null,
   "metadata": {},
   "outputs": [],
   "source": [
    "da_t2m_first_path = os.path.join(base_path, '015', 't2m_cleaned.nc')\n",
    "da_t2m_first = xr.open_dataset(da_t2m_first_path)['T_2M'].squeeze(drop=True).chunk((10, 1, 109, 98))"
   ]
  },
  {
   "cell_type": "code",
   "execution_count": null,
   "metadata": {},
   "outputs": [],
   "source": [
    "da_t2m = xr.concat([da_t2m_first.sel(time='2015-07-31 12:00'), da_t2m], dim='time')"
   ]
  },
  {
   "cell_type": "markdown",
   "metadata": {},
   "source": [
    "## Const data"
   ]
  },
  {
   "cell_type": "code",
   "execution_count": null,
   "metadata": {},
   "outputs": [],
   "source": [
    "clm_const_path = '/p/scratch/chbn29/hbn29p/data/tsmp/runs/utilities/clm_aux.nc'\n",
    "clm_const_ds = xr.open_dataset(clm_const_path)\n",
    "delta_z = clm_const_ds['DZSOI'].T.isel(levsoi=4)"
   ]
  },
  {
   "cell_type": "markdown",
   "metadata": {},
   "source": [
    "## Prepare"
   ]
  },
  {
   "cell_type": "code",
   "execution_count": null,
   "metadata": {},
   "outputs": [],
   "source": [
    "da_t2m = da_t2m.sel(time=~da_t2m.indexes['time'].duplicated())\n",
    "vr_t2m = vr_t2m.sel(time=~vr_t2m.indexes['time'].duplicated())"
   ]
  },
  {
   "cell_type": "code",
   "execution_count": null,
   "metadata": {},
   "outputs": [],
   "source": [
    "da_h2o['ensemble'] = da_t2m['ensemble'] = np.arange(40)"
   ]
  },
  {
   "cell_type": "code",
   "execution_count": null,
   "metadata": {},
   "outputs": [],
   "source": [
    "bg_idx = da_t2m.indexes['time']\n",
    "bg_idx = bg_idx[bg_idx.minute == 0]\n",
    "bg_idx = bg_idx[bg_idx >= pd.to_datetime('2015-07-31 12:00')]"
   ]
  },
  {
   "cell_type": "markdown",
   "metadata": {},
   "source": [
    "## Create background"
   ]
  },
  {
   "cell_type": "code",
   "execution_count": null,
   "metadata": {},
   "outputs": [],
   "source": [
    "background = da_h2o.sel(time=bg_idx).stack(grid=['lat', 'lon'])\n",
    "background = background.transpose('time', 'ensemble', 'grid')\n",
    "background = background.sel(time=background.indexes['time'].minute == 0)"
   ]
  },
  {
   "cell_type": "code",
   "execution_count": null,
   "metadata": {},
   "outputs": [],
   "source": [
    "vr_h2o_stacked = vr_h2o.sel(time=bg_idx).stack(grid=['lat', 'lon'])\n",
    "vr_h2o_stacked = vr_h2o_stacked.transpose('time', 'grid')\n",
    "vr_h2o_stacked = vr_h2o_stacked.sel(time=vr_h2o_stacked.indexes['time'].minute == 0)"
   ]
  },
  {
   "cell_type": "markdown",
   "metadata": {},
   "source": [
    "## Create clm coordinates"
   ]
  },
  {
   "cell_type": "code",
   "execution_count": null,
   "metadata": {},
   "outputs": [],
   "source": [
    "clm_coords_rotated = rotated_pole.transform_points(plate_carree, background.lon.values, background.lat.values)\n",
    "clm_rot_index = pd.MultiIndex.from_arrays([clm_coords_rotated[:, 0], clm_coords_rotated[:, 1]], names=['rlon', 'rlat'])"
   ]
  },
  {
   "cell_type": "code",
   "execution_count": null,
   "metadata": {},
   "outputs": [],
   "source": [
    "clm_rlon = xr.DataArray(clm_coords_rotated[:, 0], coords={'grid': background.grid}, dims=['grid'])\n",
    "clm_rlat = xr.DataArray(clm_coords_rotated[:, 1], coords={'grid': background.grid}, dims=['grid'])"
   ]
  },
  {
   "cell_type": "markdown",
   "metadata": {},
   "source": [
    "### Get pseudo state"
   ]
  },
  {
   "cell_type": "code",
   "execution_count": null,
   "metadata": {},
   "outputs": [],
   "source": [
    "pseudo_state = da_t2m.sel(time=bg_idx).drop(['lon', 'lat'])\n",
    "pseudo_state = pseudo_state.interp(rlon=clm_rlon, rlat=clm_rlat, method='linear').drop(['rlon', 'rlat'])\n",
    "pseudo_state = pseudo_state.transpose('time', 'ensemble', 'grid')"
   ]
  },
  {
   "cell_type": "code",
   "execution_count": null,
   "metadata": {},
   "outputs": [],
   "source": [
    "vr_t2m_interp = vr_t2m.sel(time=bg_idx).drop(['lon', 'lat'])\n",
    "vr_t2m_interp = vr_t2m_interp.interp(rlon=clm_rlon, rlat=clm_rlat, method='linear').drop(['rlon', 'rlat'])\n",
    "vr_t2m_interp = vr_t2m_interp.transpose('time', 'grid')"
   ]
  },
  {
   "cell_type": "markdown",
   "metadata": {},
   "source": [
    "# Assimilate T2m nature grid point based with EnKF"
   ]
  },
  {
   "cell_type": "markdown",
   "metadata": {},
   "source": [
    "# Estimate vertical weight"
   ]
  },
  {
   "cell_type": "code",
   "execution_count": null,
   "metadata": {},
   "outputs": [],
   "source": [
    "EARTH_RADIUS = 6371000\n",
    "DEG_TO_M = 2 * np.pi / 360 * EARTH_RADIUS\n",
    "def distance_func(x, y):\n",
    "    diff_obs_cos_deg = y[:, :-1] - x[:-1]\n",
    "    diff_obs_cos_m = diff_obs_cos_deg * DEG_TO_M\n",
    "    dist_obs_cos_2d = np.sqrt(np.sum(diff_obs_cos_m**2, axis=-1))\n",
    "    dist_obs_vert = np.abs(y[:, -1]-x[-1])\n",
    "    return dist_obs_cos_2d, dist_obs_vert\n",
    "\n",
    "loc_radius = (15000, 0.7)\n",
    "local_gc = GaspariCohn(loc_radius, distance_func)\n",
    "_, vert_weight = local_gc.localize_obs((0, 0, -da_h2o.levsoi.values), np.array([[0, 0, 0]]))"
   ]
  },
  {
   "cell_type": "markdown",
   "metadata": {},
   "source": [
    "## Get innovation"
   ]
  },
  {
   "cell_type": "code",
   "execution_count": null,
   "metadata": {},
   "outputs": [],
   "source": [
    "innov_t2m = vr_t2m_interp-pseudo_state.mean('ensemble')"
   ]
  },
  {
   "cell_type": "markdown",
   "metadata": {},
   "source": [
    "## Estimate Kalman gain"
   ]
  },
  {
   "cell_type": "code",
   "execution_count": null,
   "metadata": {},
   "outputs": [],
   "source": [
    "bht = xr.dot(background-background.mean('ensemble'), pseudo_state-pseudo_state.mean('ensemble'), dims='ensemble') / (len(pseudo_state['ensemble']) - 1)\n",
    "hbht = pseudo_state.var('ensemble', ddof=1)\n",
    "hbht_r = hbht + 0.1 ** 2\n",
    "\n",
    "gain = bht / hbht_r * vert_weight"
   ]
  },
  {
   "cell_type": "markdown",
   "metadata": {},
   "source": [
    "## Estimate analysis"
   ]
  },
  {
   "cell_type": "code",
   "execution_count": null,
   "metadata": {},
   "outputs": [],
   "source": [
    "inc_gp_ana = gain * innov_t2m\n",
    "da_h2o_gp_ana = (background.mean('ensemble') + inc_gp_ana).unstack('grid')"
   ]
  },
  {
   "cell_type": "code",
   "execution_count": null,
   "metadata": {},
   "outputs": [],
   "source": [
    "da_h2o_gp_ana.to_netcdf('/p/project/chbn29/hbn29p/Projects/phd_thesis/data/da_enkf_for_soil/020/da_offline_1d_enkf_nature.nc')"
   ]
  },
  {
   "cell_type": "markdown",
   "metadata": {},
   "source": [
    "# Assimilate H2OSoi nature grid point based with EnKF"
   ]
  },
  {
   "cell_type": "markdown",
   "metadata": {},
   "source": [
    "## Get innovation"
   ]
  },
  {
   "cell_type": "code",
   "execution_count": null,
   "metadata": {},
   "outputs": [],
   "source": [
    "innov_h2o = vr_h2o_stacked-background.mean('ensemble')"
   ]
  },
  {
   "cell_type": "markdown",
   "metadata": {},
   "source": [
    "## Estimate Kalman gain"
   ]
  },
  {
   "cell_type": "code",
   "execution_count": null,
   "metadata": {},
   "outputs": [],
   "source": [
    "bht = background.var('ensemble', ddof=1)\n",
    "hbht = background.var('ensemble', ddof=1)\n",
    "hbht_r = hbht + 0.01 ** 2\n",
    "\n",
    "gain = bht / hbht_r * vert_weight"
   ]
  },
  {
   "cell_type": "markdown",
   "metadata": {},
   "source": [
    "## Estimate analysis"
   ]
  },
  {
   "cell_type": "code",
   "execution_count": null,
   "metadata": {},
   "outputs": [],
   "source": [
    "inc_h2o_ana = gain * innov_h2o\n",
    "da_h2o_h2o_ana = (background.mean('ensemble') + inc_h2o_ana).unstack('grid')"
   ]
  },
  {
   "cell_type": "code",
   "execution_count": null,
   "metadata": {},
   "outputs": [],
   "source": [
    "da_h2o_h2o_ana.to_netcdf('/p/project/chbn29/hbn29p/Projects/phd_thesis/data/da_enkf_for_soil/020/da_offline_1d_enkf_h2o.nc')"
   ]
  }
 ],
 "metadata": {
  "kernelspec": {
   "display_name": "Python (pytassim-dev)",
   "language": "python",
   "name": "pytassim-dev"
  },
  "language_info": {
   "codemirror_mode": {
    "name": "ipython",
    "version": 3
   },
   "file_extension": ".py",
   "mimetype": "text/x-python",
   "name": "python",
   "nbconvert_exporter": "python",
   "pygments_lexer": "ipython3",
   "version": "3.7.7"
  }
 },
 "nbformat": 4,
 "nbformat_minor": 4
}

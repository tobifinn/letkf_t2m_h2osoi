{
 "cells": [
  {
   "cell_type": "code",
   "execution_count": null,
   "metadata": {},
   "outputs": [],
   "source": [
    "import os\n",
    "from copy import deepcopy\n",
    "\n",
    "import xarray as xr\n",
    "import numpy as np\n",
    "import pandas as pd\n",
    "import scipy.stats\n",
    "import scipy.ndimage\n",
    "from tqdm.notebook import tqdm\n",
    "\n",
    "\n",
    "import distributed\n",
    "\n",
    "from cartopy.mpl.ticker import LongitudeFormatter, LatitudeFormatter\n",
    "import matplotlib.pyplot as plt\n",
    "import matplotlib.colors as mplc\n",
    "import cartopy.crs as ccrs\n",
    "import matplotlib.dates as mdates\n",
    "import matplotlib.lines as mpll"
   ]
  },
  {
   "cell_type": "code",
   "execution_count": null,
   "metadata": {},
   "outputs": [],
   "source": [
    "rnd = np.random.RandomState(42)"
   ]
  },
  {
   "cell_type": "code",
   "execution_count": null,
   "metadata": {},
   "outputs": [],
   "source": [
    "plt.style.use('paper')\n",
    "plt.style.use('egu_journals')\n",
    "plt.rcParams['text.usetex'] = False\n",
    "rotated_pole = ccrs.RotatedPole(pole_longitude=-171.0, pole_latitude=41.5)\n",
    "plate_carree = ccrs.PlateCarree()"
   ]
  },
  {
   "cell_type": "code",
   "execution_count": null,
   "metadata": {},
   "outputs": [],
   "source": [
    "std_corr = np.sqrt(41 / 40)\n",
    "DENSITY = 1000"
   ]
  },
  {
   "cell_type": "code",
   "execution_count": null,
   "metadata": {},
   "outputs": [],
   "source": [
    "cluster = distributed.LocalCluster(n_workers=40, threads_per_worker=1, memory_limit='2GB')\n",
    "client = distributed.Client(cluster)\n",
    "client"
   ]
  },
  {
   "cell_type": "markdown",
   "metadata": {},
   "source": [
    "# Load data"
   ]
  },
  {
   "cell_type": "code",
   "execution_count": null,
   "metadata": {},
   "outputs": [],
   "source": [
    "base_path = '/work/um0203/u300636/for2131/runs/da_enkf_for_soil'"
   ]
  },
  {
   "cell_type": "markdown",
   "metadata": {},
   "source": [
    "## H2O"
   ]
  },
  {
   "cell_type": "code",
   "execution_count": null,
   "metadata": {},
   "outputs": [],
   "source": [
    "vr_h2o_path = os.path.join(base_path, '016', 'h2o_cleaned.nc')\n",
    "vr_h2o = xr.open_dataset(vr_h2o_path)['H2OSOI'].squeeze(drop=True).isel(levsoi=4).chunk((1, 302, 267))[..., 30:-30, 30:-30]"
   ]
  },
  {
   "cell_type": "code",
   "execution_count": null,
   "metadata": {},
   "outputs": [],
   "source": [
    "da_h2o_first_path = os.path.join(base_path, '015', 'h2o_cleaned.nc')\n",
    "da_h2o_first = xr.open_dataset(da_h2o_first_path)['H2OSOI'].squeeze(drop=True).isel(levsoi=4).chunk((40, 1, 302, 267))[..., 30:-30, 30:-30]"
   ]
  },
  {
   "cell_type": "code",
   "execution_count": null,
   "metadata": {},
   "outputs": [],
   "source": [
    "da_h2o_path = os.path.join(base_path, '020', 'h2o_cleaned.nc')\n",
    "da_h2o = xr.open_dataset(da_h2o_path)['H2OSOI'].squeeze(drop=True).isel(levsoi=4).chunk((40, 1, 302, 267))[..., 30:-30, 30:-30]"
   ]
  },
  {
   "cell_type": "code",
   "execution_count": null,
   "metadata": {},
   "outputs": [],
   "source": [
    "da_h2o = xr.concat([da_h2o_first.sel(time='2015-07-31 12:00'), da_h2o], dim='time')"
   ]
  },
  {
   "cell_type": "code",
   "execution_count": null,
   "metadata": {},
   "outputs": [],
   "source": [
    "da_ana_path = os.path.join(base_path, '020', 'da_offline_1d_enkf_nature.nc')\n",
    "da_ana = xr.open_dataarray(da_ana_path).squeeze(drop=True).chunk(( 1, 302, 267))[..., 30:-30, 30:-30]"
   ]
  },
  {
   "cell_type": "code",
   "execution_count": null,
   "metadata": {},
   "outputs": [],
   "source": [
    "da_h2o_bg = da_h2o.sel(time=da_h2o.indexes['time'].minute==0)\n",
    "da_h2o_ana = da_ana\n",
    "da_h2o_ana['time'] = da_h2o_bg.indexes['time']"
   ]
  },
  {
   "cell_type": "code",
   "execution_count": null,
   "metadata": {},
   "outputs": [],
   "source": [
    "const_path = '/work/um0203/u300636/for2131/runs/utilities/clm_aux.nc'\n",
    "const_data = xr.open_dataset(const_path).isel(time=0)\n",
    "sat_point = const_data['WATSAT'].isel(levsoi=4)[..., 30:-30, 30:-30]"
   ]
  },
  {
   "cell_type": "markdown",
   "metadata": {},
   "source": [
    "## Get ensemble covariance"
   ]
  },
  {
   "cell_type": "code",
   "execution_count": null,
   "metadata": {},
   "outputs": [],
   "source": [
    "err_bg = (da_h2o_bg.mean('ensemble')-vr_h2o)**2\n",
    "err_ana = (da_h2o_ana-vr_h2o)**2\n",
    "impact = np.sqrt(err_ana.mean(['lat', 'lon']))-np.sqrt(err_bg.mean(['lat', 'lon']))"
   ]
  },
  {
   "cell_type": "code",
   "execution_count": null,
   "metadata": {},
   "outputs": [],
   "source": [
    "bg_smi = da_h2o_bg / sat_point"
   ]
  },
  {
   "cell_type": "code",
   "execution_count": null,
   "metadata": {},
   "outputs": [],
   "source": [
    "da_dry = bg_smi.mean('ensemble') < 0.2\n",
    "da_wet = bg_smi.mean('ensemble') > 0.5\n",
    "da_mixed = ~np.logical_or(da_dry, da_wet)"
   ]
  },
  {
   "cell_type": "code",
   "execution_count": null,
   "metadata": {},
   "outputs": [],
   "source": [
    "impact_dry = np.sqrt(err_ana.where(da_dry).mean(['lat', 'lon'])) - np.sqrt(err_bg.where(da_dry).mean(['lat', 'lon']))\n",
    "impact_wet = np.sqrt(err_ana.where(da_wet).mean(['lat', 'lon'])) - np.sqrt(err_bg.where(da_wet).mean(['lat', 'lon']))\n",
    "impact_mixed = np.sqrt(err_ana.where(da_mixed).mean(['lat', 'lon'])) - np.sqrt(err_bg.where(da_mixed).mean(['lat', 'lon']))"
   ]
  },
  {
   "cell_type": "code",
   "execution_count": null,
   "metadata": {},
   "outputs": [],
   "source": [
    "impact_cycle = impact[7:].groupby('time.hour').mean(['time']).roll(hour=1, roll_coords=True).load()\n",
    "dry_cycle = impact_dry[7:].groupby('time.hour').mean(['time']).roll(hour=1, roll_coords=True).load()\n",
    "wet_cycle = impact_wet[7:].groupby('time.hour').mean(['time']).roll(hour=1, roll_coords=True).load()\n",
    "mixed_cycle = impact_mixed[7:].groupby('time.hour').mean(['time']).roll(hour=1, roll_coords=True).load()"
   ]
  },
  {
   "cell_type": "code",
   "execution_count": null,
   "metadata": {},
   "outputs": [],
   "source": [
    "figsize = [s*0.48 for s in plt.rcParams['figure.figsize']]\n",
    "fig, ax = plt.subplots(figsize=figsize, sharex=True)\n",
    "ax.plot(np.arange(-1, 23, 1), wet_cycle, lw=0.8, c='C0', label='moist', ls='--')\n",
    "ax.plot(np.arange(-1, 23, 1), mixed_cycle, lw=0.8, c='salmon', label='mixed', ls='-.')\n",
    "ax.plot(np.arange(-1, 23, 1), dry_cycle, lw=0.8, c='saddlebrown', label='dry', ls='dotted')\n",
    "ax.plot(np.arange(-1, 23, 1), impact_cycle, lw=0.8, c='black', label='total')\n",
    "legend = ax.legend(loc=3)\n",
    "legend.get_frame().set_linewidth(0.8)\n",
    "ax.axhline(c='black', lw=0.5)\n",
    "ax.set_ylabel('Potential impact\\n(m$^3$/m$^3$)')\n",
    "ax.set_xticks(np.arange(0, 24, 3))\n",
    "ax.set_xlabel('Time of day (UTC)')\n",
    "ax.set_ylim(-3.3E-3, 0.5E-3)\n",
    "\n",
    "fig.savefig('../figures/fig_09_soil_moisture_impact.png', dpi=300)"
   ]
  },
  {
   "cell_type": "code",
   "execution_count": null,
   "metadata": {},
   "outputs": [],
   "source": []
  }
 ],
 "metadata": {
  "kernelspec": {
   "display_name": "Python (pytassim-dev)",
   "language": "python",
   "name": "pytassim-dev"
  },
  "language_info": {
   "codemirror_mode": {
    "name": "ipython",
    "version": 3
   },
   "file_extension": ".py",
   "mimetype": "text/x-python",
   "name": "python",
   "nbconvert_exporter": "python",
   "pygments_lexer": "ipython3",
   "version": "3.7.7"
  }
 },
 "nbformat": 4,
 "nbformat_minor": 4
}

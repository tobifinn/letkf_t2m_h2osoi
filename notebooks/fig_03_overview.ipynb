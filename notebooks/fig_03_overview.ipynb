{
 "cells": [
  {
   "cell_type": "code",
   "execution_count": null,
   "metadata": {},
   "outputs": [],
   "source": [
    "import os\n",
    "from copy import deepcopy\n",
    "\n",
    "import xarray as xr\n",
    "import numpy as np\n",
    "import pandas as pd\n",
    "\n",
    "from cartopy.mpl.ticker import LongitudeFormatter, LatitudeFormatter\n",
    "import matplotlib.pyplot as plt\n",
    "import matplotlib.colors as mplc\n",
    "import cartopy.crs as ccrs\n",
    "import matplotlib.dates as mdates\n",
    "import matplotlib.lines as mpll\n",
    "import matplotlib.gridspec as mplgs\n",
    "from pandas.plotting import register_matplotlib_converters"
   ]
  },
  {
   "cell_type": "code",
   "execution_count": null,
   "metadata": {},
   "outputs": [],
   "source": [
    "rnd = np.random.RandomState(42)"
   ]
  },
  {
   "cell_type": "code",
   "execution_count": null,
   "metadata": {},
   "outputs": [],
   "source": [
    "plt.style.use('paper')\n",
    "plt.style.use('egu_journals')\n",
    "register_matplotlib_converters()\n",
    "rotated_pole = ccrs.RotatedPole(pole_longitude=-171.0, pole_latitude=41.5)\n",
    "plate_carree = ccrs.PlateCarree()"
   ]
  },
  {
   "cell_type": "markdown",
   "metadata": {},
   "source": [
    "# Load data"
   ]
  },
  {
   "cell_type": "code",
   "execution_count": null,
   "metadata": {},
   "outputs": [],
   "source": [
    "base_path = '/work/um0203/u300636/for2131/runs/da_enkf_for_soil'"
   ]
  },
  {
   "cell_type": "code",
   "execution_count": null,
   "metadata": {},
   "outputs": [],
   "source": [
    "h2o_path = os.path.join(base_path, '016', 'h2o_cleaned.nc')\n",
    "ds_h2o = xr.open_dataset(h2o_path)['H2OSOI'].squeeze(drop=True).isel(levsoi=4)"
   ]
  },
  {
   "cell_type": "code",
   "execution_count": null,
   "metadata": {},
   "outputs": [],
   "source": [
    "t_path = os.path.join(base_path, '016', 'temp.nc')\n",
    "ds_t = xr.open_dataset(t_path)['T'].squeeze(drop=True).isel(level=-1)"
   ]
  },
  {
   "cell_type": "code",
   "execution_count": null,
   "metadata": {},
   "outputs": [],
   "source": [
    "precip_path = os.path.join(base_path, '016', 'precip_cleaned.nc')\n",
    "ds_precip = xr.open_dataset(precip_path)['TOT_PREC'].squeeze(drop=True)"
   ]
  },
  {
   "cell_type": "code",
   "execution_count": null,
   "metadata": {},
   "outputs": [],
   "source": [
    "const_path = '/work/um0203/u300636/for2131/runs/da_enkf_for_soil/initial/orig/ens001/clmoas.clm2.h0.2015-07-30-00900.nc'\n",
    "const_data = xr.open_dataset(const_path).isel(time=0)\n",
    "sat_point = const_data['WATSAT'].isel(levsoi=4)"
   ]
  },
  {
   "cell_type": "markdown",
   "metadata": {},
   "source": [
    "## Data cleaning"
   ]
  },
  {
   "cell_type": "code",
   "execution_count": null,
   "metadata": {},
   "outputs": [],
   "source": [
    "h2o_time_ind = ds_h2o.indexes['time'].minute == 0\n",
    "h2o_time_ind[0] = True\n",
    "ds_h2o_sel = ds_h2o.sel(time=h2o_time_ind)\n",
    "ds_smi_sel = (ds_h2o_sel / sat_point)[:, 30:-30, 30:-30]"
   ]
  },
  {
   "cell_type": "code",
   "execution_count": null,
   "metadata": {},
   "outputs": [],
   "source": [
    "t2m_time_ind = ds_t.indexes['time'].minute == 0\n",
    "t2m_time_ind[0] = True\n",
    "ds_t2m_sel = ds_t.sel(time=t2m_time_ind)\n",
    "ds_t2m_sel = ds_t2m_sel.sel(time=~ds_t2m_sel.indexes['time'].duplicated())\n",
    "ds_t2m_sel = ds_t2m_sel[:, 10:-10, 10:-10]"
   ]
  },
  {
   "cell_type": "code",
   "execution_count": null,
   "metadata": {},
   "outputs": [],
   "source": [
    "ds_precip_sel = ds_precip[:36].diff('time')\n",
    "ds_precip_sel = xr.concat([ds_precip_sel, ds_precip[36:]], dim='time')\n",
    "ds_precip_sel = (ds_precip_sel>0)[:, 10:-10, 10:-10]"
   ]
  },
  {
   "cell_type": "markdown",
   "metadata": {},
   "source": [
    "# Plot mean values"
   ]
  },
  {
   "cell_type": "code",
   "execution_count": null,
   "metadata": {},
   "outputs": [],
   "source": [
    "smi_mean = ds_smi_sel.median(['lat', 'lon'])\n",
    "t2m_mean = ds_t2m_sel.median(['rlat', 'rlon'])\n",
    "precip_vals = ds_precip_sel.mean(['rlat', 'rlon'])"
   ]
  },
  {
   "cell_type": "code",
   "execution_count": null,
   "metadata": {},
   "outputs": [],
   "source": [
    "time_ticks = pd.date_range('2015-07-30', '2015-08-08', freq='2D')"
   ]
  },
  {
   "cell_type": "code",
   "execution_count": null,
   "metadata": {},
   "outputs": [],
   "source": [
    "figsize = [f*0.48 for f in deepcopy(plt.rcParams['figure.figsize'])]\n",
    "grid_spec = mplgs.GridSpec(nrows=10, ncols=1)\n",
    "fig = plt.figure(figsize=figsize)\n",
    "\n",
    "ax_t2m = fig.add_subplot(grid_spec[:7, :])\n",
    "ax_precip = ax_t2m.twinx()\n",
    "\n",
    "ax_t2m.fill_betweenx(x1=[pd.to_datetime('2015-07-31 12:00')]*2, y=[270, 320], color='0.8', alpha=0.35, lw=0)\n",
    "\n",
    "ax_precip.fill_between(x=precip_vals.time.values, y1=precip_vals, color='deepskyblue', zorder=-999, alpha=0.5, lw=0)\n",
    "ax_precip.set_ylim(0, 1)\n",
    "ax_precip.set_yticks([0.1, 0.3, 0.5, 0.7, 0.9])\n",
    "ax_precip.set_ylabel('Precipitation')\n",
    "ax_precip.spines[\"left\"].set_position((\"axes\", -0.25))\n",
    "ax_precip.yaxis.tick_left()\n",
    "ax_precip.yaxis.set_label_position('left')\n",
    "\n",
    "ax_t2m.plot(t2m_mean.time, t2m_mean, c='firebrick', lw=1)\n",
    "ax_t2m.text(x=0.02, y=0.98, s='(a)', transform=ax_t2m.transAxes, va='top', ha='left')\n",
    "ax_t2m.set_xticks([])\n",
    "ax_t2m.set_xlim(pd.to_datetime('2015-07-29 18:00'), pd.to_datetime('2015-08-08 00:00'))\n",
    "ax_t2m.set_yticks([285, 290, 295, 300, 305])\n",
    "ax_t2m.set_ylim(282, 308)\n",
    "ax_t2m.set_ylabel('Temp (K)')\n",
    "\n",
    "ax_land = fig.add_subplot(grid_spec[7:, :])\n",
    "\n",
    "ax_land.fill_betweenx(x1=[pd.to_datetime('2015-07-31 12:00')]*2, y=[-0.5, 1.5], color='0.8', alpha=0.35, lw=0)\n",
    "ax_land.text(x=pd.to_datetime('2015-07-30 15:00'), y=0.03, s='spin-up', ha='center', va='bottom')\n",
    "\n",
    "ax_land.plot(smi_mean.time, smi_mean, c='sienna', lw=1)\n",
    "ax_land.text(x=0.02, y=0.95, s='(b)', transform=ax_land.transAxes, va='top', ha='left')\n",
    "ax_land.set_ylim(-0.05, 1.05)\n",
    "ax_land.set_yticks([0.1, 0.5, 0.9])\n",
    "ax_land.set_ylabel('SAT')\n",
    "ax_land.set_xlim(pd.to_datetime('2015-07-29 18:00'), pd.to_datetime('2015-08-08 00:00'))\n",
    "ax_land.set_xlabel('Date (2015 UTC)')\n",
    "ax_land.set_xticks(time_ticks)\n",
    "ax_land.set_xticklabels(time_ticks.strftime('%m-%d'))\n",
    "fig.align_ylabels([ax_t2m, ax_land])\n",
    "fig.subplots_adjust(wspace=0.1, hspace=0.02)\n",
    "fig.savefig('../figures/fig_03_overview.png', dpi=300)\n",
    "plt.show()"
   ]
  },
  {
   "cell_type": "code",
   "execution_count": null,
   "metadata": {},
   "outputs": [],
   "source": []
  }
 ],
 "metadata": {
  "kernelspec": {
   "display_name": "Python (pytassim-dev)",
   "language": "python",
   "name": "pytassim-dev"
  },
  "language_info": {
   "codemirror_mode": {
    "name": "ipython",
    "version": 3
   },
   "file_extension": ".py",
   "mimetype": "text/x-python",
   "name": "python",
   "nbconvert_exporter": "python",
   "pygments_lexer": "ipython3",
   "version": "3.7.7"
  }
 },
 "nbformat": 4,
 "nbformat_minor": 4
}

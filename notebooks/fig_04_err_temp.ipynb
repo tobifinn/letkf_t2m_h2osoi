{
 "cells": [
  {
   "cell_type": "code",
   "execution_count": null,
   "metadata": {},
   "outputs": [],
   "source": [
    "import os\n",
    "from copy import deepcopy\n",
    "\n",
    "import xarray as xr\n",
    "import numpy as np\n",
    "import pandas as pd\n",
    "from tqdm import tqdm_notebook as tqdm\n",
    "\n",
    "import distributed\n",
    "\n",
    "from cartopy.mpl.ticker import LongitudeFormatter, LatitudeFormatter\n",
    "import matplotlib.pyplot as plt\n",
    "import matplotlib.colors as mplc\n",
    "import cartopy.crs as ccrs\n",
    "import matplotlib.dates as mdates\n",
    "import matplotlib.lines as mpll\n",
    "from pandas.plotting import register_matplotlib_converters"
   ]
  },
  {
   "cell_type": "code",
   "execution_count": null,
   "metadata": {},
   "outputs": [],
   "source": [
    "rnd = np.random.RandomState(42)"
   ]
  },
  {
   "cell_type": "code",
   "execution_count": null,
   "metadata": {},
   "outputs": [],
   "source": [
    "plt.style.use('paper')\n",
    "plt.style.use('egu_journals')\n",
    "plt.rcParams['text.usetex'] = False\n",
    "register_matplotlib_converters()\n",
    "rotated_pole = ccrs.RotatedPole(pole_longitude=-171.0, pole_latitude=41.5)\n",
    "plate_carree = ccrs.PlateCarree()"
   ]
  },
  {
   "cell_type": "code",
   "execution_count": null,
   "metadata": {},
   "outputs": [],
   "source": [
    "cluster = distributed.LocalCluster()\n",
    "client = distributed.Client(cluster)\n",
    "client"
   ]
  },
  {
   "cell_type": "markdown",
   "metadata": {},
   "source": [
    "# Load data"
   ]
  },
  {
   "cell_type": "code",
   "execution_count": null,
   "metadata": {},
   "outputs": [],
   "source": [
    "base_path = '/work/um0203/u300636/for2131/runs/da_enkf_for_soil/'"
   ]
  },
  {
   "cell_type": "markdown",
   "metadata": {},
   "source": [
    "## Temp"
   ]
  },
  {
   "cell_type": "code",
   "execution_count": null,
   "metadata": {},
   "outputs": [],
   "source": [
    "vr_t_path = os.path.join(base_path, '016', 'temp.nc')\n",
    "vr_t = xr.open_dataset(vr_t_path)['T'].squeeze(drop=True).chunk((1, 1, 109, 99)).isel(level=-1)[..., 10:-10, 10:-10]"
   ]
  },
  {
   "cell_type": "code",
   "execution_count": null,
   "metadata": {},
   "outputs": [],
   "source": [
    "det_t_path = os.path.join(base_path, '018', 'temp.nc')\n",
    "det_t = xr.open_dataset(det_t_path)['T'].squeeze(drop=True).chunk((1, 1, 109, 99)).isel(level=-1)[..., 10:-10, 10:-10]"
   ]
  },
  {
   "cell_type": "code",
   "execution_count": null,
   "metadata": {},
   "outputs": [],
   "source": [
    "sekf_t_path = os.path.join(base_path, '023', 'juwels', 'temp_cleaned.nc')\n",
    "sekf_t = xr.open_dataset(sekf_t_path)['T'].squeeze(drop=True).chunk((1, 109, 99))[..., 10:-10, 10:-10]"
   ]
  },
  {
   "cell_type": "code",
   "execution_count": null,
   "metadata": {},
   "outputs": [],
   "source": [
    "ens_t_path = os.path.join(base_path, '015', 'temp.nc')\n",
    "ens_t = xr.open_dataset(ens_t_path)['T'].squeeze(drop=True).chunk((40, 1, 1, 109, 99)).isel(level=-1)[..., 10:-10, 10:-10]"
   ]
  },
  {
   "cell_type": "code",
   "execution_count": null,
   "metadata": {},
   "outputs": [],
   "source": [
    "da_land_t_path = os.path.join(base_path, '019', 'temp.nc')\n",
    "da_land_t = xr.open_dataset(da_land_t_path)['T'].squeeze(drop=True).chunk((40, 1, 1, 109, 99)).isel(level=-1)[..., 10:-10, 10:-10]"
   ]
  },
  {
   "cell_type": "code",
   "execution_count": null,
   "metadata": {},
   "outputs": [],
   "source": [
    "da_t_path = os.path.join(base_path, '020', 'temp.nc')\n",
    "da_t = xr.open_dataset(da_t_path)['T'].squeeze(drop=True).chunk((40, 1, 1, 109, 99)).isel(level=-1)[..., 10:-10, 10:-10]"
   ]
  },
  {
   "cell_type": "code",
   "execution_count": null,
   "metadata": {},
   "outputs": [],
   "source": [
    "da_land_t['ensemble'] = ens_t['ensemble'] = da_t['ensemble'] = np.arange(40)"
   ]
  },
  {
   "cell_type": "code",
   "execution_count": null,
   "metadata": {},
   "outputs": [],
   "source": [
    "vr_t = vr_t.sel(time=~vr_t.indexes['time'].duplicated())\n",
    "det_t = det_t.sel(time=~det_t.indexes['time'].duplicated())\n",
    "sekf_t = sekf_t.sel(time=~sekf_t.indexes['time'].duplicated())\n",
    "ens_t = ens_t.sel(time=~ens_t.indexes['time'].duplicated())\n",
    "da_land_t = da_land_t.sel(time=~da_land_t.indexes['time'].duplicated())\n",
    "da_t = da_t.sel(time=~da_t.indexes['time'].duplicated())"
   ]
  },
  {
   "cell_type": "markdown",
   "metadata": {},
   "source": [
    "# Error estimation"
   ]
  },
  {
   "cell_type": "code",
   "execution_count": null,
   "metadata": {},
   "outputs": [],
   "source": [
    "err_ens_t = np.sqrt(((ens_t.mean('ensemble')-vr_t) ** 2).mean(['rlat', 'rlon'])).load()\n",
    "err_da_land_t = np.sqrt(((da_land_t.mean('ensemble')-vr_t) ** 2).mean(['rlat', 'rlon'])).load()[1:]\n",
    "err_da_t = np.sqrt(((da_t.mean('ensemble')-vr_t) ** 2).mean(['rlat', 'rlon'])).load()[1:]\n",
    "err_det_t = np.sqrt(((det_t-vr_t) ** 2).mean(['rlat', 'rlon'])).load()\n",
    "err_sekf_t = np.sqrt(((sekf_t-vr_t) ** 2).mean(['rlat', 'rlon'])).load()"
   ]
  },
  {
   "cell_type": "raw",
   "metadata": {},
   "source": [
    "sekf_t_path = os.path.join(base_path, '023', 'temp_cleaned.nc')\n",
    "sekf_t = xr.open_dataset(sekf_t_path)['T'].squeeze(drop=True).chunk((1, 109, 99))[..., 10:-10, 10:-10]\n",
    "sekf_t = sekf_t.sel(time=~sekf_t.indexes['time'].duplicated())\n",
    "err_sekf_t = np.sqrt(((sekf_t-vr_t) ** 2).mean(['rlat', 'rlon'])).load()"
   ]
  },
  {
   "cell_type": "raw",
   "metadata": {},
   "source": [
    "ens_spread_da_t = (np.sqrt(da_t.var('ensemble', ddof=1).mean(['rlat', 'rlon'])) * np.sqrt(41/40)).load()\n",
    "ens_spread_ens_t = (np.sqrt(ens_t.var('ensemble', ddof=1).mean(['rlat', 'rlon'])) * np.sqrt(41/40)).load()\n",
    "ens_spread_da_land_t = (np.sqrt(da_land_t.var('ensemble', ddof=1).mean(['rlat', 'rlon'])) * np.sqrt(41/40)).load()"
   ]
  },
  {
   "cell_type": "markdown",
   "metadata": {},
   "source": [
    "# Plot"
   ]
  },
  {
   "cell_type": "code",
   "execution_count": null,
   "metadata": {},
   "outputs": [],
   "source": [
    "fig, ax = plt.subplots()\n",
    "#ax.axvline(x=pd.to_datetime('2015-07-31 12:00'), c='0.5', alpha=0.5)\n",
    "ax.fill_betweenx(x1=[pd.to_datetime('2015-07-31 12:00')]*2, y=[-1, 1], color='0.8', alpha=0.35, lw=0)\n",
    "ax.axvline(x=pd.to_datetime('2015-07-30 00:00'), c='black', lw=0.5, zorder=-99)\n",
    "ax.axvline(x=pd.to_datetime('2015-07-31 00:00'), c='black', lw=0.5, zorder=-99)\n",
    "ax.axvline(x=pd.to_datetime('2015-08-01 00:00'), c='black', lw=0.5, zorder=-99)\n",
    "ax.axvline(x=pd.to_datetime('2015-08-02 00:00'), c='black', lw=0.5, zorder=-99)\n",
    "ax.axvline(x=pd.to_datetime('2015-08-03 00:00'), c='black', lw=0.5, zorder=-99)\n",
    "ax.axvline(x=pd.to_datetime('2015-08-04 00:00'), c='black', lw=0.5, zorder=-99)\n",
    "ax.axvline(x=pd.to_datetime('2015-08-05 00:00'), c='black', lw=0.5, zorder=-99)\n",
    "ax.axvline(x=pd.to_datetime('2015-08-06 00:00'), c='black', lw=0.5, zorder=-99)\n",
    "ax.axvline(x=pd.to_datetime('2015-08-07 00:00'), c='black', lw=0.5, zorder=-99)\n",
    "\n",
    "ax.plot(err_ens_t[::4].time, err_ens_t[::4], c='black', label='ENS')\n",
    "ax.plot(err_det_t[::4].time, err_det_t[::4], label='DET', c='C0')\n",
    "ax.plot(err_sekf_t[3+23*4::4].time, err_sekf_t[3+23*4::4].isel(level=-1), label='SEKF', c='deepskyblue')\n",
    "ax.plot(err_da_land_t[::4].time, err_da_land_t[::4], label='LETKF Soil', c='salmon')\n",
    "ax.plot(err_da_t[::4].time, err_da_t[::4], label='LETKF Soil+Temp', c='firebrick')\n",
    "\n",
    "#ax.text(x=pd.to_datetime('2015-07-30 15:00'), y=0.0003, s='spin-up', ha='center', va='bottom', zorder=9999)\n",
    "ax.xaxis.set_major_formatter(mdates.DateFormatter('%m-%d'))\n",
    "ax.set_xlim(pd.to_datetime('2015-07-29 18:00'), pd.to_datetime('2015-08-08 00:00'))\n",
    "ax.set_xlabel('Time (UTC)')\n",
    "ax.set_ylabel('RMSE to NATURE (K)')\n",
    "ax.legend(loc=0, framealpha=1)\n",
    "ax.set_ylim(0, 0.5)\n",
    "#ax.plot(spread_t.time, spread_t, label='Ens Spread', c='firebrick')\n",
    "plt.show()\n",
    "fig.savefig('../figures/fig_04_err_t_long.png', dpi=300)"
   ]
  }
 ],
 "metadata": {
  "kernelspec": {
   "display_name": "Python [conda env:analysis]",
   "language": "python",
   "name": "conda-env-analysis-py"
  },
  "language_info": {
   "codemirror_mode": {
    "name": "ipython",
    "version": 3
   },
   "file_extension": ".py",
   "mimetype": "text/x-python",
   "name": "python",
   "nbconvert_exporter": "python",
   "pygments_lexer": "ipython3",
   "version": "3.7.7"
  }
 },
 "nbformat": 4,
 "nbformat_minor": 4
}

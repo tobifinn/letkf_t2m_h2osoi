{
 "cells": [
  {
   "cell_type": "code",
   "execution_count": null,
   "metadata": {},
   "outputs": [],
   "source": [
    "import os.path\n",
    "\n",
    "import xarray as xr\n",
    "import pandas as pd\n",
    "import numpy as np\n",
    "\n",
    "import matplotlib.pyplot as plt\n",
    "import matplotlib.colors as mpl_c\n",
    "import matplotlib.patches as mpl_p\n",
    "import cartopy.crs as ccrs"
   ]
  },
  {
   "cell_type": "code",
   "execution_count": null,
   "metadata": {},
   "outputs": [],
   "source": [
    "plt.style.use('paper')\n",
    "plt.style.use('egu_journals')"
   ]
  },
  {
   "cell_type": "code",
   "execution_count": null,
   "metadata": {},
   "outputs": [],
   "source": [
    "rotated_pole = ccrs.RotatedPole(pole_longitude=-171.0, pole_latitude=41.5)\n",
    "plate_carree = ccrs.PlateCarree()"
   ]
  },
  {
   "cell_type": "code",
   "execution_count": null,
   "metadata": {},
   "outputs": [],
   "source": [
    "base_path = '/work/um0203/u300636/for2131/runs/'"
   ]
  },
  {
   "cell_type": "code",
   "execution_count": null,
   "metadata": {},
   "outputs": [],
   "source": [
    "topo_path = os.path.join(base_path, 'inputs', 'clm', 'topodata_0302x0267.nc')\n",
    "ds_topo = xr.open_dataset(topo_path)"
   ]
  },
  {
   "cell_type": "code",
   "execution_count": null,
   "metadata": {},
   "outputs": [],
   "source": [
    "ds_topo['lsmlat'] = ds_topo['LATIXY'].mean('lsmlon')\n",
    "ds_topo['lsmlon'] = ds_topo['LONGXY'].mean('lsmlat')"
   ]
  },
  {
   "cell_type": "code",
   "execution_count": null,
   "metadata": {},
   "outputs": [],
   "source": [
    "stations_path = os.path.join(base_path, 'utilities', 'stations.hd5')\n",
    "ds_stations = pd.read_hdf(stations_path)"
   ]
  },
  {
   "cell_type": "code",
   "execution_count": null,
   "metadata": {},
   "outputs": [],
   "source": [
    "rect_left_xy = [ds_topo['lsmlon'].min(), ds_topo['lsmlat'].min()]\n",
    "rect_left_wh = [ds_topo['lsmlon'][30]-ds_topo['lsmlon'].min(), ds_topo['lsmlat'].max()-ds_topo['lsmlat'].min()]\n",
    "\n",
    "rect_right_xy = [ds_topo['lsmlon'][-30], ds_topo['lsmlat'].min()]\n",
    "rect_right_wh = [ds_topo['lsmlon'].max()-ds_topo['lsmlon'][-30], ds_topo['lsmlat'].max()-ds_topo['lsmlat'].min()]\n",
    "\n",
    "rect_top_xy = [ds_topo['lsmlon'][30], ds_topo['lsmlat'][-30]]\n",
    "rect_top_wh = [ds_topo['lsmlon'][-30]-ds_topo['lsmlon'][30], ds_topo['lsmlat'].max()-ds_topo['lsmlat'][-30]]\n",
    "\n",
    "rect_bottom_xy = [ds_topo['lsmlon'][30], ds_topo['lsmlat'].min()]\n",
    "rect_bottom_wh = [ds_topo['lsmlon'][-30]-ds_topo['lsmlon'][30], ds_topo['lsmlat'][30]-ds_topo['lsmlat'].min()]"
   ]
  },
  {
   "cell_type": "code",
   "execution_count": null,
   "metadata": {},
   "outputs": [],
   "source": [
    "idx = 17\n",
    "\n",
    "figsize = [s*0.48 for s in plt.rcParams['figure.figsize']]\n",
    "fig = plt.figure(figsize=figsize)\n",
    "ax = fig.add_subplot()\n",
    "norm = mpl_c.Normalize(vmin=0.,vmax=1250.)\n",
    "cf = ax.contourf(ds_topo['lsmlon'].values, ds_topo['lsmlat'].values, ds_topo['TOPO'].values, levels=np.arange(0, 1800, 50), cmap='pink_r', norm=norm)\n",
    "ax.scatter(ds_stations['Länge'], ds_stations['Breite'], s=5, marker='.', color='black', zorder=99999)\n",
    "#ax.scatter(ds_stations['Länge'].iloc[idx], ds_stations['Breite'].iloc[idx], s=5, marker='x', color='red', zorder=99999)\n",
    "\n",
    "ax.add_patch(\n",
    "    mpl_p.Rectangle(xy=rect_left_xy, width=rect_left_wh[0], height=rect_left_wh[1],\n",
    "                    facecolor='black', alpha=0.2)\n",
    ")\n",
    "ax.add_patch(\n",
    "    mpl_p.Rectangle(xy=rect_right_xy, width=rect_right_wh[0], height=rect_right_wh[1],\n",
    "                    facecolor='black', alpha=0.2)\n",
    ")\n",
    "ax.add_patch(\n",
    "    mpl_p.Rectangle(xy=rect_top_xy, width=rect_top_wh[0], height=rect_top_wh[1],\n",
    "                    facecolor='black', alpha=0.2)\n",
    ")\n",
    "ax.add_patch(\n",
    "    mpl_p.Rectangle(xy=rect_bottom_xy, width=rect_bottom_wh[0], height=rect_bottom_wh[1],\n",
    "                    facecolor='black', alpha=0.2)\n",
    ")\n",
    "\n",
    "\n",
    "cbar = fig.colorbar(cf, fraction=0.046, pad=0.04)\n",
    "cbar.set_label('Orography (m)')\n",
    "\n",
    "ax.set_xlim(7.491, 10.72)\n",
    "ax.set_xticks(np.arange(7.5, 11, 0.5))\n",
    "ax.set_xlabel(r'Longitude ($^\\circ$)')\n",
    "ax.set_ylabel(r'Latitude ($^\\circ$)')\n",
    "ax.spines['right'].set_visible(True)\n",
    "ax.spines['top'].set_visible(True)\n",
    "\n",
    "fig.savefig('../figures/fig_01_orography.png', dpi=300)\n",
    "plt.show()"
   ]
  },
  {
   "cell_type": "code",
   "execution_count": null,
   "metadata": {},
   "outputs": [],
   "source": []
  }
 ],
 "metadata": {
  "kernelspec": {
   "display_name": "Python [conda env:pytassim-dev]",
   "language": "python",
   "name": "conda-env-pytassim-dev-py"
  },
  "language_info": {
   "codemirror_mode": {
    "name": "ipython",
    "version": 3
   },
   "file_extension": ".py",
   "mimetype": "text/x-python",
   "name": "python",
   "nbconvert_exporter": "python",
   "pygments_lexer": "ipython3",
   "version": "3.7.7"
  }
 },
 "nbformat": 4,
 "nbformat_minor": 4
}

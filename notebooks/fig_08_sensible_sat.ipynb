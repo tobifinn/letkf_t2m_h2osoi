{
 "cells": [
  {
   "cell_type": "code",
   "execution_count": null,
   "metadata": {},
   "outputs": [],
   "source": [
    "import os\n",
    "from copy import deepcopy\n",
    "\n",
    "import xarray as xr\n",
    "import numpy as np\n",
    "import pandas as pd\n",
    "import scipy.stats\n",
    "import scipy.ndimage\n",
    "from tqdm import tqdm_notebook as tqdm\n",
    "\n",
    "import distributed\n",
    "\n",
    "from cartopy.mpl.ticker import LongitudeFormatter, LatitudeFormatter\n",
    "import matplotlib.pyplot as plt\n",
    "import matplotlib.colors as mplc\n",
    "import cartopy.crs as ccrs\n",
    "import matplotlib.dates as mdates\n",
    "import matplotlib.lines as mpll"
   ]
  },
  {
   "cell_type": "code",
   "execution_count": null,
   "metadata": {},
   "outputs": [],
   "source": [
    "rnd = np.random.RandomState(42)"
   ]
  },
  {
   "cell_type": "code",
   "execution_count": null,
   "metadata": {},
   "outputs": [],
   "source": [
    "plt.style.use('paper')\n",
    "plt.style.use('egu_journals')\n",
    "plt.rcParams['text.usetex'] = False\n",
    "rotated_pole = ccrs.RotatedPole(pole_longitude=-171.0, pole_latitude=41.5)\n",
    "plate_carree = ccrs.PlateCarree()"
   ]
  },
  {
   "cell_type": "code",
   "execution_count": null,
   "metadata": {},
   "outputs": [],
   "source": [
    "cluster = distributed.LocalCluster(dashboard_address=':8787')\n",
    "client = distributed.Client(cluster, )\n",
    "client"
   ]
  },
  {
   "cell_type": "markdown",
   "metadata": {},
   "source": [
    "# Load data"
   ]
  },
  {
   "cell_type": "code",
   "execution_count": null,
   "metadata": {},
   "outputs": [],
   "source": [
    "base_path = '/work/um0203/u300636/for2131/runs/da_enkf_for_soil'"
   ]
  },
  {
   "cell_type": "markdown",
   "metadata": {},
   "source": [
    "## H2O"
   ]
  },
  {
   "cell_type": "code",
   "execution_count": null,
   "metadata": {},
   "outputs": [],
   "source": [
    "vr_h2o_path = os.path.join(base_path, '016', 'h2o_cleaned.nc')\n",
    "vr_h2o = xr.open_dataset(vr_h2o_path)['H2OSOI'].squeeze(drop=True).isel(levsoi=4).chunk((1, 302, 267))[..., 30:-30, 30:-30]"
   ]
  },
  {
   "cell_type": "code",
   "execution_count": null,
   "metadata": {},
   "outputs": [],
   "source": [
    "vr_fluxes_path = os.path.join(base_path, '016', 'fluxes.nc')\n",
    "vr_fluxes = xr.open_dataset(vr_fluxes_path).squeeze(drop=True).chunk({'time':1, 'lat':302, 'lon':267}).isel(lat=slice(30, -30), lon=slice(30, -30))"
   ]
  },
  {
   "cell_type": "code",
   "execution_count": null,
   "metadata": {},
   "outputs": [],
   "source": [
    "da_h2o_path = os.path.join(base_path, '020', 'h2o_cleaned.nc')\n",
    "da_h2o = xr.open_dataset(da_h2o_path)['H2OSOI'].squeeze(drop=True).isel(levsoi=4).chunk((40, 1, 302, 267))[..., 30:-30, 30:-30]"
   ]
  },
  {
   "cell_type": "code",
   "execution_count": null,
   "metadata": {},
   "outputs": [],
   "source": [
    "da_fluxes_path = os.path.join(base_path, '020', 'fluxes.nc')\n",
    "da_fluxes = xr.open_dataset(da_fluxes_path).squeeze(drop=True).chunk({'ensemble':40, 'time':1, 'lat':302, 'lon':267}).isel(lat=slice(30, -30), lon=slice(30, -30))"
   ]
  },
  {
   "cell_type": "markdown",
   "metadata": {},
   "source": [
    "## Additional data"
   ]
  },
  {
   "cell_type": "code",
   "execution_count": null,
   "metadata": {},
   "outputs": [],
   "source": [
    "const_path = '/work/um0203/u300636/for2131/runs/utilities/clm_aux.nc'\n",
    "const_data = xr.open_dataset(const_path).isel(time=0)\n",
    "sat_point = const_data['WATSAT'].isel(levsoi=4)[..., 30:-30, 30:-30]"
   ]
  },
  {
   "cell_type": "markdown",
   "metadata": {},
   "source": [
    "## Pre-process data"
   ]
  },
  {
   "cell_type": "code",
   "execution_count": null,
   "metadata": {},
   "outputs": [],
   "source": [
    "da_bg_fluxes = da_fluxes.isel(time=~da_fluxes.indexes['time'].duplicated())\n",
    "da_bg_h2o = da_h2o.isel(time=~da_h2o.indexes['time'].duplicated())\n",
    "vr_h2o = vr_h2o.isel(time=~vr_h2o.indexes['time'].duplicated())"
   ]
  },
  {
   "cell_type": "markdown",
   "metadata": {},
   "source": [
    "# Estimate fluxes"
   ]
  },
  {
   "cell_type": "code",
   "execution_count": null,
   "metadata": {},
   "outputs": [],
   "source": [
    "da_latent = da_fluxes['FCEV'] + da_fluxes['FCTR'] + da_fluxes['FGEV']\n",
    "da_sensible = da_fluxes['FSH']\n",
    "\n",
    "vr_latent = vr_fluxes['FCEV'] + vr_fluxes['FCTR'] + vr_fluxes['FGEV']\n",
    "vr_sensible = vr_fluxes['FSH']"
   ]
  },
  {
   "cell_type": "markdown",
   "metadata": {},
   "source": [
    "## Get sensible heat flux in dependence on the SMI"
   ]
  },
  {
   "cell_type": "code",
   "execution_count": null,
   "metadata": {},
   "outputs": [],
   "source": [
    "da_sensible = da_sensible[:, 3::4][:, 6:].load()\n",
    "da_smi = (da_h2o / sat_point)[:, 3::4][:, 6:].load()"
   ]
  },
  {
   "cell_type": "code",
   "execution_count": null,
   "metadata": {},
   "outputs": [],
   "source": [
    "da_hours = da_smi.copy(deep=True)\n",
    "da_hours[:] = da_hours.indexes['time'].hour.values[None, :, None, None]"
   ]
  },
  {
   "cell_type": "code",
   "execution_count": null,
   "metadata": {},
   "outputs": [],
   "source": [
    "smi_bins = np.arange(-0.025, 1, 0.05)\n",
    "center_bins = smi_bins[:-1] + 0.025\n",
    "tmp_stats = scipy.stats.binned_statistic(\n",
    "    da_smi.isel(time=da_smi.indexes['time'].hour == 14).values.flatten(),\n",
    "    da_sensible.isel(time=da_smi.indexes['time'].hour == 14).values.flatten(),\n",
    "    bins=smi_bins, statistic='median'\n",
    ")[0]"
   ]
  },
  {
   "cell_type": "code",
   "execution_count": null,
   "metadata": {},
   "outputs": [],
   "source": [
    "tmp_10 = scipy.stats.binned_statistic(\n",
    "    da_smi.isel(time=da_smi.indexes['time'].hour == 14).values.flatten(),\n",
    "    da_sensible.isel(time=da_smi.indexes['time'].hour == 14).values.flatten(),\n",
    "    bins=smi_bins, statistic=lambda x: np.percentile(x, 5)\n",
    ")[0]"
   ]
  },
  {
   "cell_type": "code",
   "execution_count": null,
   "metadata": {},
   "outputs": [],
   "source": [
    "tmp_90 = scipy.stats.binned_statistic(\n",
    "    da_smi.isel(time=da_smi.indexes['time'].hour == 14).values.flatten(),\n",
    "    da_sensible.isel(time=da_smi.indexes['time'].hour == 14).values.flatten(),\n",
    "    bins=smi_bins, statistic=lambda x: np.percentile(x, 95)\n",
    ")[0]"
   ]
  },
  {
   "cell_type": "code",
   "execution_count": null,
   "metadata": {},
   "outputs": [],
   "source": [
    "cmap = plt.get_cmap('Reds')\n",
    "cmap_colors = cmap(np.arange(cmap.N))\n",
    "cmap = mplc.ListedColormap(cmap_colors[:-96])\n",
    "cmap.set_under(color='white')\n",
    "norm = mplc.LogNorm(vmin=10, vmax=2E4)\n",
    "\n",
    "figsize = [s*0.48 for s in plt.rcParams['figure.figsize']]\n",
    "\n",
    "fig, ax = plt.subplots(figsize=figsize)\n",
    "#plt_hexbin = ax.hexbin(\n",
    "#    da_smi.isel(time=da_sensible.indexes['time'].hour == 14).values.flatten(),\n",
    "#    da_sensible.isel(time=da_sensible.indexes['time'].hour == 14).values.flatten(),\n",
    "#    cmap=cmap, norm=norm\n",
    "#)\n",
    "ax.axhline(c='black', lw=0.5)\n",
    "tmp_line = ax.plot(center_bins, tmp_stats, c='black', ls='-', alpha=1.0)\n",
    "perc_line = ax.plot(center_bins, tmp_10, c='0.2', ls='--', alpha=1.0)\n",
    "_ = ax.plot(center_bins, tmp_90, c='0.2', ls='--', alpha=1.0)\n",
    "\n",
    "ax.axvline(0.2, c='black', alpha=0.5, lw=0.5)\n",
    "ax.axvline(0.5, c='black', alpha=0.5, lw=0.5)\n",
    "ax.text(0.1, -50, s='dry', ha='center', va='center')\n",
    "ax.text(0.35, -50, s='mixed', ha='center', va='center')\n",
    "ax.text(0.675, -50, s='moist', ha='center', va='center')\n",
    "ax.set_ylabel('Sensible heat flux (W/m$^2$)')\n",
    "ax.set_xlabel('Soil moisture saturation')\n",
    "ax.set_xlim(0, 0.85)\n",
    "ax.set_xticks(np.arange(0, 1, 0.2))\n",
    "ax.set_ylim(-100, 500)\n",
    "\n",
    "#cbar = fig.colorbar(plt_hexbin)\n",
    "#cbar.set_label('Number of points within bin')\n",
    "\n",
    "legend = ax.legend([tmp_line[0], perc_line[0]], ['Median', '5. / 95. Percentile'], loc=4, bbox_to_anchor=(1.04, 0.95), ncol=2)\n",
    "\n",
    "fig.savefig('../figures/fig_08_sensible_sat.png', dpi=300)\n",
    "plt.show()"
   ]
  },
  {
   "cell_type": "code",
   "execution_count": null,
   "metadata": {},
   "outputs": [],
   "source": []
  }
 ],
 "metadata": {
  "kernelspec": {
   "display_name": "Python (pytassim-dev)",
   "language": "python",
   "name": "pytassim-dev"
  },
  "language_info": {
   "codemirror_mode": {
    "name": "ipython",
    "version": 3
   },
   "file_extension": ".py",
   "mimetype": "text/x-python",
   "name": "python",
   "nbconvert_exporter": "python",
   "pygments_lexer": "ipython3",
   "version": "3.7.7"
  }
 },
 "nbformat": 4,
 "nbformat_minor": 4
}

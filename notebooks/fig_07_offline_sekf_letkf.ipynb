{
 "cells": [
  {
   "cell_type": "code",
   "execution_count": null,
   "metadata": {},
   "outputs": [],
   "source": [
    "import os\n",
    "import pickle as pk\n",
    "\n",
    "import xarray as xr\n",
    "import numpy as np\n",
    "import pandas as pd\n",
    "from tqdm import tqdm_notebook as tqdm\n",
    "\n",
    "import distributed\n",
    "\n",
    "from pytassim.localization import GaspariCohn\n",
    "from pytassim.model.terrsysmp import preprocess_cosmo\n",
    "from pytassim.obs_ops.terrsysmp import CosmoT2mOperator\n",
    "from pytassim.assimilation.filter.letkf_dist import DistributedLETKFUncorr\n",
    "from pytassim.assimilation.filter.letkf import LETKFUncorr\n",
    "from py_bacy.intf_pytassim.io import load_observations\n",
    "from py_bacy.intf_pytassim.clm import distance_func"
   ]
  },
  {
   "cell_type": "code",
   "execution_count": null,
   "metadata": {},
   "outputs": [],
   "source": [
    "rnd = np.random.RandomState(42)"
   ]
  },
  {
   "cell_type": "code",
   "execution_count": null,
   "metadata": {},
   "outputs": [],
   "source": [
    "cluster = distributed.LocalCluster(n_workers=16, threads_per_worker=1, memory_limit='6GB', local_dir=\"/tmp\")\n",
    "client = distributed.Client(cluster)\n",
    "client"
   ]
  },
  {
   "cell_type": "markdown",
   "metadata": {},
   "source": [
    "# Load data"
   ]
  },
  {
   "cell_type": "code",
   "execution_count": null,
   "metadata": {},
   "outputs": [],
   "source": [
    "base_path = '/p/project/chbn29/hbn29p/Projects/phd_thesis/data/da_enkf_for_soil/'"
   ]
  },
  {
   "cell_type": "markdown",
   "metadata": {},
   "source": [
    "## H2O"
   ]
  },
  {
   "cell_type": "code",
   "execution_count": null,
   "metadata": {},
   "outputs": [],
   "source": [
    "vr_h2o_path = os.path.join(base_path, '016', 'h2o_cleaned.nc')\n",
    "vr_h2o = xr.open_dataset(vr_h2o_path)['H2OSOI'].squeeze(drop=True).chunk((1, 302, 267))"
   ]
  },
  {
   "cell_type": "code",
   "execution_count": null,
   "metadata": {},
   "outputs": [],
   "source": [
    "ens_h2o_path = os.path.join(base_path, '015', 'h2o_cleaned.nc')\n",
    "ens_h2o = xr.open_dataset(ens_h2o_path)['H2OSOI'].squeeze(drop=True).chunk((40, 1, 302, 267))"
   ]
  },
  {
   "cell_type": "code",
   "execution_count": null,
   "metadata": {},
   "outputs": [],
   "source": [
    "sekf_h2o_path = os.path.join(base_path, '022', 'h2o_cleaned.nc')\n",
    "sekf_h2o = xr.open_dataset(sekf_h2o_path)['H2OSOI'].squeeze(drop=True).chunk((40, 1, 302, 267))"
   ]
  },
  {
   "cell_type": "markdown",
   "metadata": {},
   "source": [
    "## T2m"
   ]
  },
  {
   "cell_type": "code",
   "execution_count": null,
   "metadata": {},
   "outputs": [],
   "source": [
    "vr_t2m_path = os.path.join(base_path, '016', 't2m_cleaned.nc')\n",
    "vr_t2m = xr.open_dataset(vr_t2m_path)['T_2M'].squeeze(drop=True).chunk((1, 109, 98))"
   ]
  },
  {
   "cell_type": "code",
   "execution_count": null,
   "metadata": {},
   "outputs": [],
   "source": [
    "ens_t2m_path = os.path.join(base_path, '015', 't2m_cleaned.nc')\n",
    "ens_t2m = xr.open_dataset(ens_t2m_path)['T_2M'].squeeze(drop=True).chunk((40, 1, 109, 98))"
   ]
  },
  {
   "cell_type": "code",
   "execution_count": null,
   "metadata": {},
   "outputs": [],
   "source": [
    "sekf_t2m_path = os.path.join(base_path, '022', 't2m_smoother_cleaned.nc')\n",
    "sekf_t2m = xr.open_dataset(sekf_t2m_path)['T_2M'].squeeze(drop=True).chunk((40, 1, 109, 98))"
   ]
  },
  {
   "cell_type": "markdown",
   "metadata": {},
   "source": [
    "## Prepare"
   ]
  },
  {
   "cell_type": "code",
   "execution_count": null,
   "metadata": {},
   "outputs": [],
   "source": [
    "ens_t2m = ens_t2m.sel(time=~ens_t2m.indexes['time'].duplicated())\n",
    "vr_t2m = vr_t2m.sel(time=~vr_t2m.indexes['time'].duplicated())\n",
    "sekf_t2m = sekf_t2m.sel(time=~sekf_t2m.indexes['time'].duplicated())"
   ]
  },
  {
   "cell_type": "code",
   "execution_count": null,
   "metadata": {},
   "outputs": [],
   "source": [
    "ens_t2m['ensemble'] = ens_h2o['ensemble'] = np.arange(40)"
   ]
  },
  {
   "cell_type": "code",
   "execution_count": null,
   "metadata": {},
   "outputs": [],
   "source": [
    "fg_time = sekf_t2m.indexes['time'][12*4-1::12*4][:-1]\n",
    "bg_time = fg_time.normalize()"
   ]
  },
  {
   "cell_type": "markdown",
   "metadata": {},
   "source": [
    "### Load stations"
   ]
  },
  {
   "cell_type": "code",
   "execution_count": null,
   "metadata": {},
   "outputs": [],
   "source": [
    "stations_path = '/p/scratch/chbn29/hbn29p/data/tsmp/runs/utilities/stations.hd5'\n",
    "df_stations = pd.read_hdf(stations_path, 'stations')"
   ]
  },
  {
   "cell_type": "markdown",
   "metadata": {},
   "source": [
    "### Load constant"
   ]
  },
  {
   "cell_type": "code",
   "execution_count": null,
   "metadata": {},
   "outputs": [],
   "source": [
    "const_path = '/p/scratch/chbn29/hbn29p/data/tsmp/runs/utilities/cosmo_const.nc'\n",
    "ds_cos_const = xr.open_dataset(const_path).load()"
   ]
  },
  {
   "cell_type": "markdown",
   "metadata": {},
   "source": [
    "### Load LatLon"
   ]
  },
  {
   "cell_type": "code",
   "execution_count": null,
   "metadata": {},
   "outputs": [],
   "source": [
    "coords_latlon = np.stack((ens_t2m['lat'].values, ens_t2m['lon'].values), axis=-1)"
   ]
  },
  {
   "cell_type": "markdown",
   "metadata": {},
   "source": [
    "### Define observation operator"
   ]
  },
  {
   "cell_type": "code",
   "execution_count": null,
   "metadata": {},
   "outputs": [],
   "source": [
    "obs_op = CosmoT2mOperator(df_stations, cosmo_coords=coords_latlon, cosmo_const=ds_cos_const)\n",
    "obs_op.get_lapse_rate = lambda x: 0"
   ]
  },
  {
   "cell_type": "markdown",
   "metadata": {},
   "source": [
    "### Prepare VR"
   ]
  },
  {
   "cell_type": "code",
   "execution_count": null,
   "metadata": {},
   "outputs": [],
   "source": [
    "vr_obs_prep = vr_t2m.expand_dims('var_name', axis=0).expand_dims('ensemble', axis=2).expand_dims('vgrid', axis=-3)\n",
    "vr_obs_prep = vr_obs_prep.stack(grid=['rlat', 'rlon', 'vgrid'])\n",
    "vr_obs_prep['var_name'] = ['T_2M']"
   ]
  },
  {
   "cell_type": "markdown",
   "metadata": {},
   "source": [
    "### Load observations"
   ]
  },
  {
   "cell_type": "code",
   "execution_count": null,
   "metadata": {},
   "outputs": [],
   "source": [
    "%%capture\n",
    "obs_path = '/p/scratch/chbn29/hbn29p/data/tsmp/runs/obs/ens/t2m_obs_016_0_1_long.nc'\n",
    "obs_det = load_observations(obs_path)\n",
    "obs_det.obs.operator = obs_op.get_obs_method"
   ]
  },
  {
   "cell_type": "code",
   "execution_count": null,
   "metadata": {},
   "outputs": [],
   "source": [
    "obs_vr_values = obs_det.obs.operator(vr_obs_prep).squeeze('ensemble')\n",
    "obs_vr = obs_det.copy(deep=True)\n",
    "obs_vr['observations'] = obs_vr_values\n",
    "obs_vr['obs_grid_1'] = obs_det['obs_grid_1']\n",
    "obs_vr = obs_vr.sel(time=fg_time)\n",
    "obs_vr.obs.operator = obs_op.get_obs_method"
   ]
  },
  {
   "cell_type": "markdown",
   "metadata": {},
   "source": [
    "# Define assimilation"
   ]
  },
  {
   "cell_type": "code",
   "execution_count": null,
   "metadata": {},
   "outputs": [],
   "source": [
    "loc_radius = (15000, 0.7)\n",
    "local_gc = GaspariCohn(loc_radius, distance_func)\n",
    "letkf = LETKFUncorr(localization=local_gc, inf_factor=1)"
   ]
  },
  {
   "cell_type": "markdown",
   "metadata": {},
   "source": [
    "## Create states"
   ]
  },
  {
   "cell_type": "code",
   "execution_count": null,
   "metadata": {},
   "outputs": [],
   "source": [
    "fg_ens_state = ens_t2m.sel(time=fg_time).expand_dims('var_name', axis=0).expand_dims('vgrid', axis=-3).stack(grid=['rlat', 'rlon', 'vgrid'])\n",
    "fg_ens_state['var_name'] = ['T_2M']\n",
    "fg_ens_state = fg_ens_state.transpose('var_name', 'time', 'ensemble', 'grid').load()"
   ]
  },
  {
   "cell_type": "code",
   "execution_count": null,
   "metadata": {},
   "outputs": [],
   "source": [
    "ens_background = ens_h2o.isel(levsoi=[4]).sel(time=bg_time).expand_dims('var_name', axis=0).stack(grid=['lat', 'lon', 'levsoi'])\n",
    "ens_background['var_name'] = ['H2OSOI']\n",
    "ens_background = ens_background.transpose('var_name', 'time', 'ensemble', 'grid').load()"
   ]
  },
  {
   "cell_type": "code",
   "execution_count": null,
   "metadata": {},
   "outputs": [],
   "source": [
    "fg_sekf_state = sekf_t2m.sel(time=fg_time).expand_dims('var_name', axis=0).expand_dims('vgrid', axis=-3).stack(grid=['rlat', 'rlon', 'vgrid'])\n",
    "fg_sekf_state['var_name'] = ['T_2M']\n",
    "fg_sekf_state = fg_sekf_state.transpose('var_name', 'time', 'grid').load()"
   ]
  },
  {
   "cell_type": "markdown",
   "metadata": {},
   "source": [
    "## We have to use SEKF values"
   ]
  },
  {
   "cell_type": "code",
   "execution_count": null,
   "metadata": {},
   "outputs": [],
   "source": [
    "sekf_background = sekf_h2o.isel(levsoi=4).sel(time=bg_time).load()"
   ]
  },
  {
   "cell_type": "markdown",
   "metadata": {},
   "source": [
    "$\\mathbf{y}^o - \\overline{\\mathbf{y}}^b + \\mathbf{c} = \\mathbf{y}^o - \\mathbf{y}^d$\n",
    "\n",
    "$ \\mathbf{c} = \\overline{\\mathbf{y}}^b - \\mathbf{y}^d$"
   ]
  },
  {
   "cell_type": "code",
   "execution_count": null,
   "metadata": {},
   "outputs": [],
   "source": [
    "obs_det_corr = obs_vr.obs.operator(fg_ens_state).mean(dim='ensemble')-obs_vr.obs.operator(fg_sekf_state)"
   ]
  },
  {
   "cell_type": "code",
   "execution_count": null,
   "metadata": {},
   "outputs": [],
   "source": [
    "time_pbar = tqdm(enumerate(sekf_background.time.values), total=len(sekf_background.time))"
   ]
  },
  {
   "cell_type": "code",
   "execution_count": null,
   "metadata": {},
   "outputs": [],
   "source": [
    "ds_ana = []\n",
    "for k, time in time_pbar:\n",
    "    time_pbar.set_postfix(time=pd.to_datetime(time).strftime('%m-%d %H:%MZ'))\n",
    "    sekf_bg = sekf_background.sel(time=[time])\n",
    "    tmp_bg = ens_background.sel(time=[time])\n",
    "    tmp_fg_state = fg_ens_state.isel(time=[k])\n",
    "    tmp_obs = obs_vr.sel(time=tmp_fg_state.indexes['time']).copy(deep=True)\n",
    "    tmp_obs['observations'] = tmp_obs['observations'] + obs_det_corr.sel(time=tmp_obs.indexes['time'])\n",
    "    tmp_obs = tmp_obs.copy(deep=True).drop('time')\n",
    "    tmp_fg_state = tmp_fg_state.copy(deep=True).drop('time')\n",
    "    tmp_fg_state['time'] = tmp_obs['time'] = tmp_bg.time\n",
    "    tmp_obs.obs.operator = obs_op.get_obs_method\n",
    "    tmp_ana = letkf.assimilate(tmp_bg, tmp_obs, tmp_fg_state)\n",
    "    tmp_inc = (tmp_ana.mean('ensemble')-tmp_bg.mean('ensemble')).unstack('grid')\n",
    "    tmp_ana = sekf_bg + tmp_inc\n",
    "    ds_ana.append(tmp_ana)"
   ]
  },
  {
   "cell_type": "code",
   "execution_count": null,
   "metadata": {},
   "outputs": [],
   "source": [
    "ds_ana_concat = xr.concat(ds_ana, dim='time')"
   ]
  },
  {
   "cell_type": "code",
   "execution_count": null,
   "metadata": {},
   "outputs": [],
   "source": [
    "ds_ana_concat = ds_ana_concat.squeeze()"
   ]
  },
  {
   "cell_type": "code",
   "execution_count": null,
   "metadata": {},
   "outputs": [],
   "source": [
    "ds_ana_concat.to_netcdf('/p/project/chbn29/hbn29p/Projects/phd_thesis/data/da_enkf_for_soil/022/da_offline_letkf_nature.nc')"
   ]
  }
 ],
 "metadata": {
  "kernelspec": {
   "display_name": "pytassim",
   "language": "python",
   "name": "pytassim"
  },
  "language_info": {
   "codemirror_mode": {
    "name": "ipython",
    "version": 3
   },
   "file_extension": ".py",
   "mimetype": "text/x-python",
   "name": "python",
   "nbconvert_exporter": "python",
   "pygments_lexer": "ipython3",
   "version": "3.6.7"
  }
 },
 "nbformat": 4,
 "nbformat_minor": 4
}

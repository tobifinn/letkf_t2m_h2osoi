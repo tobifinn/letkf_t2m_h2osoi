{
 "cells": [
  {
   "cell_type": "code",
   "execution_count": null,
   "metadata": {},
   "outputs": [],
   "source": [
    "import os\n",
    "from copy import deepcopy\n",
    "\n",
    "import xarray as xr\n",
    "import numpy as np\n",
    "import pandas as pd\n",
    "import scipy.stats\n",
    "import scipy.ndimage\n",
    "from tqdm import tqdm_notebook as tqdm\n",
    "\n",
    "import distributed\n",
    "\n",
    "from cartopy.mpl.ticker import LongitudeFormatter, LatitudeFormatter\n",
    "import matplotlib.pyplot as plt\n",
    "import matplotlib.colors as mplc\n",
    "import cartopy.crs as ccrs\n",
    "import matplotlib.dates as mdates\n",
    "import matplotlib.lines as mpll\n",
    "from pandas.plotting import register_matplotlib_converters"
   ]
  },
  {
   "cell_type": "code",
   "execution_count": null,
   "metadata": {},
   "outputs": [],
   "source": [
    "rnd = np.random.RandomState(42)"
   ]
  },
  {
   "cell_type": "code",
   "execution_count": null,
   "metadata": {},
   "outputs": [],
   "source": [
    "plt.style.use('paper')\n",
    "plt.style.use('egu_journals')\n",
    "register_matplotlib_converters()\n",
    "rotated_pole = ccrs.RotatedPole(pole_longitude=-171.0, pole_latitude=41.5)\n",
    "plate_carree = ccrs.PlateCarree()"
   ]
  },
  {
   "cell_type": "code",
   "execution_count": null,
   "metadata": {},
   "outputs": [],
   "source": [
    "cluster = distributed.LocalCluster()\n",
    "client = distributed.Client(cluster)\n",
    "client"
   ]
  },
  {
   "cell_type": "markdown",
   "metadata": {},
   "source": [
    "# Load data"
   ]
  },
  {
   "cell_type": "code",
   "execution_count": null,
   "metadata": {},
   "outputs": [],
   "source": [
    "base_path ='/work/um0203/u300636/for2131/runs/da_enkf_for_soil/'"
   ]
  },
  {
   "cell_type": "markdown",
   "metadata": {},
   "source": [
    "## H2O"
   ]
  },
  {
   "cell_type": "code",
   "execution_count": null,
   "metadata": {},
   "outputs": [],
   "source": [
    "vr_h2o_path = os.path.join(base_path, '016', 'h2o_cleaned.nc')\n",
    "vr_h2o = xr.open_dataset(vr_h2o_path)['H2OSOI'].squeeze(drop=True).isel(levsoi=4).chunk((1, 302, 267))[..., 30:-30, 30:-30]"
   ]
  },
  {
   "cell_type": "code",
   "execution_count": null,
   "metadata": {},
   "outputs": [],
   "source": [
    "det_h2o_path = os.path.join(base_path, '018', 'h2o_cleaned.nc')\n",
    "det_h2o = xr.open_dataset(det_h2o_path)['H2OSOI'].squeeze(drop=True).isel(levsoi=4).chunk((1, 302, 267))[..., 30:-30, 30:-30]"
   ]
  },
  {
   "cell_type": "code",
   "execution_count": null,
   "metadata": {},
   "outputs": [],
   "source": [
    "ens_h2o_path = os.path.join(base_path, '015', 'h2o_cleaned.nc')\n",
    "ens_h2o = xr.open_dataset(ens_h2o_path)['H2OSOI'].squeeze(drop=True).isel(levsoi=4).chunk((40, 1, 302, 267))[..., 30:-30, 30:-30]"
   ]
  },
  {
   "cell_type": "code",
   "execution_count": null,
   "metadata": {},
   "outputs": [],
   "source": [
    "da_off_h2o_path = os.path.join(base_path, '019', 'h2o_cleaned.nc')\n",
    "da_off_h2o = xr.open_dataset(da_off_h2o_path)['H2OSOI'].squeeze(drop=True).isel(levsoi=4).chunk((40, 1, 302, 267))[..., 30:-30, 30:-30]"
   ]
  },
  {
   "cell_type": "code",
   "execution_count": null,
   "metadata": {},
   "outputs": [],
   "source": [
    "da_h2o_path = os.path.join(base_path, '020', 'h2o_cleaned.nc')\n",
    "da_h2o = xr.open_dataset(da_h2o_path)['H2OSOI'].squeeze(drop=True).isel(levsoi=4).chunk((40, 1, 302, 267))[..., 30:-30, 30:-30]"
   ]
  },
  {
   "cell_type": "code",
   "execution_count": null,
   "metadata": {},
   "outputs": [],
   "source": [
    "sekf_h2o_path = os.path.join(base_path, '023', 'juwels', 'h2o_cleaned.nc')\n",
    "sekf_h2o = xr.open_dataset(sekf_h2o_path)['H2OSOI'].squeeze(drop=True).isel(levsoi=4).chunk((1, 302, 267))[..., 30:-30, 30:-30]"
   ]
  },
  {
   "cell_type": "code",
   "execution_count": null,
   "metadata": {},
   "outputs": [],
   "source": [
    "da_off_h2o['ensemble'] = ens_h2o['ensemble'] = da_h2o['ensemble'] = np.arange(40)"
   ]
  },
  {
   "cell_type": "markdown",
   "metadata": {},
   "source": [
    "# Error estimation"
   ]
  },
  {
   "cell_type": "code",
   "execution_count": null,
   "metadata": {},
   "outputs": [],
   "source": [
    "err_ens_h2o = np.sqrt(((ens_h2o.mean('ensemble')-vr_h2o) ** 2).mean(['lat', 'lon'])).load()\n",
    "err_da_off_h2o = np.sqrt(((da_off_h2o.mean('ensemble')-vr_h2o) ** 2).mean(['lat', 'lon'])).load()\n",
    "err_da_h2o = np.sqrt(((da_h2o.mean('ensemble')-vr_h2o) ** 2).mean(['lat', 'lon'])).load()\n",
    "err_det_h2o = np.sqrt(((det_h2o-vr_h2o) ** 2).mean(['lat', 'lon'])).load()\n",
    "err_sekf_h2o = np.sqrt(((sekf_h2o-vr_h2o) ** 2).mean(['lat', 'lon'])).load()"
   ]
  },
  {
   "cell_type": "code",
   "execution_count": null,
   "metadata": {},
   "outputs": [],
   "source": [
    "ens_spread_da_h2o = (np.sqrt(da_h2o.var('ensemble', ddof=1).mean(['lat', 'lon'])) * np.sqrt(41/40)).load()\n",
    "ens_spread_ens_h2o = (np.sqrt(ens_h2o.var('ensemble', ddof=1).mean(['lat', 'lon'])) * np.sqrt(41/40)).load()\n",
    "ens_spread_da_off_h2o = (np.sqrt(da_off_h2o.var('ensemble', ddof=1).mean(['lat', 'lon'])) * np.sqrt(41/40)).load()"
   ]
  },
  {
   "cell_type": "markdown",
   "metadata": {},
   "source": [
    "# Plot"
   ]
  },
  {
   "cell_type": "code",
   "execution_count": null,
   "metadata": {},
   "outputs": [],
   "source": [
    "plt.rcParams['text.usetex'] = False"
   ]
  },
  {
   "cell_type": "code",
   "execution_count": null,
   "metadata": {},
   "outputs": [],
   "source": [
    "fig, ax = plt.subplots()\n",
    "#ax.axhline(y=0, c='black')\n",
    "#ax.axvline(x=pd.to_datetime('2015-07-31 12:00'), c='0.5', alpha=0.5)\n",
    "ax.fill_betweenx(x1=[pd.to_datetime('2015-07-31 12:00')]*2, y=[0, 1], color='0.8', alpha=0.35, lw=0)\n",
    "ax.axvline(x=pd.to_datetime('2015-07-30 00:00'), c='black', lw=0.5, zorder=-99)\n",
    "ax.axvline(x=pd.to_datetime('2015-07-31 00:00'), c='black', lw=0.5, zorder=-99)\n",
    "ax.axvline(x=pd.to_datetime('2015-08-01 00:00'), c='black', lw=0.5, zorder=-99)\n",
    "ax.axvline(x=pd.to_datetime('2015-08-02 00:00'), c='black', lw=0.5, zorder=-99)\n",
    "ax.axvline(x=pd.to_datetime('2015-08-03 00:00'), c='black', lw=0.5, zorder=-99)\n",
    "ax.axvline(x=pd.to_datetime('2015-08-04 00:00'), c='black', lw=0.5, zorder=-99)\n",
    "ax.axvline(x=pd.to_datetime('2015-08-05 00:00'), c='black', lw=0.5, zorder=-99)\n",
    "ax.axvline(x=pd.to_datetime('2015-08-06 00:00'), c='black', lw=0.5, zorder=-99)\n",
    "ax.axvline(x=pd.to_datetime('2015-08-07 00:00'), c='black', lw=0.5, zorder=-99)\n",
    "\n",
    "ax.plot(err_ens_h2o.time, err_ens_h2o, label='RMSE ENS', c='black')\n",
    "ax.plot(ens_spread_ens_h2o.time, ens_spread_ens_h2o, c='black', ls='--', label='Spread ENS')\n",
    "ax.plot(err_det_h2o.time, err_det_h2o, label='RMSE DET', c='C0')\n",
    "ax.plot(err_sekf_h2o.time, err_sekf_h2o, label='RMSE SEKF', c='deepskyblue')\n",
    "ax.plot(err_da_off_h2o.time, err_da_off_h2o, label='RMSE LETKF Soil', c='salmon')\n",
    "ax.plot(ens_spread_da_off_h2o.time, ens_spread_da_off_h2o, label='Spread LETKF Soil', c='salmon', ls='--')\n",
    "ax.plot(err_da_h2o.time, err_da_h2o, label='RMSE LETKF Soil+Temp', c='firebrick')\n",
    "ax.plot(ens_spread_da_h2o.time, ens_spread_da_h2o, label='Spread LETKF Soil+Temp', c='firebrick', ls='--')\n",
    "\n",
    "ax.xaxis.set_major_formatter(mdates.DateFormatter('%m-%d'))\n",
    "ax.set_xlim(pd.to_datetime('2015-07-29 18:00'), pd.to_datetime('2015-08-08 00:00'))\n",
    "ax.set_xlabel('Time (UTC)')\n",
    "ax.set_ylabel('Error for soil moisture in root-depth (m$^3$/m$^3$)')\n",
    "ax.legend(loc=0, framealpha=1)\n",
    "ax.set_ylim(0, 0.023)\n",
    "#ax.plot(spread_t2m.time, spread_t2m, label='Ens Spread', c='firebrick')\n",
    "plt.show()\n",
    "fig.savefig('../figures/fig_05_err_h2o_long.png', dpi=300)"
   ]
  }
 ],
 "metadata": {
  "kernelspec": {
   "display_name": "Python (pytassim-dev)",
   "language": "python",
   "name": "pytassim-dev"
  },
  "language_info": {
   "codemirror_mode": {
    "name": "ipython",
    "version": 3
   },
   "file_extension": ".py",
   "mimetype": "text/x-python",
   "name": "python",
   "nbconvert_exporter": "python",
   "pygments_lexer": "ipython3",
   "version": "3.7.7"
  }
 },
 "nbformat": 4,
 "nbformat_minor": 4
}

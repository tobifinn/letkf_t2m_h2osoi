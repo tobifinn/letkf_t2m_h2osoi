{
 "cells": [
  {
   "cell_type": "code",
   "execution_count": null,
   "metadata": {},
   "outputs": [],
   "source": [
    "import os\n",
    "import pickle as pk\n",
    "from ipywidgets import interact\n",
    "from copy import deepcopy\n",
    "\n",
    "from tqdm import tqdm_notebook as tqdm\n",
    "\n",
    "import xarray as xr\n",
    "import numpy as np\n",
    "import pandas as pd\n",
    "\n",
    "import distributed\n",
    "\n",
    "from cartopy.mpl.ticker import LongitudeFormatter, LatitudeFormatter\n",
    "import matplotlib.pyplot as plt\n",
    "import matplotlib.colors\n",
    "import cartopy.crs as ccrs\n",
    "import matplotlib.dates as mdates\n",
    "from pandas.plotting import register_matplotlib_converters"
   ]
  },
  {
   "cell_type": "code",
   "execution_count": null,
   "metadata": {},
   "outputs": [],
   "source": [
    "rnd = np.random.RandomState(42)"
   ]
  },
  {
   "cell_type": "code",
   "execution_count": null,
   "metadata": {},
   "outputs": [],
   "source": [
    "DENSITY = 1000"
   ]
  },
  {
   "cell_type": "code",
   "execution_count": null,
   "metadata": {},
   "outputs": [],
   "source": [
    "plt.style.use('paper')\n",
    "plt.style.use('egu_journals')\n",
    "register_matplotlib_converters()\n",
    "plt.rcParams['text.usetex'] = False"
   ]
  },
  {
   "cell_type": "code",
   "execution_count": null,
   "metadata": {},
   "outputs": [],
   "source": [
    "rotated_pole = ccrs.RotatedPole(pole_longitude=-171.0, pole_latitude=41.5)\n",
    "plate_carree = ccrs.PlateCarree()"
   ]
  },
  {
   "cell_type": "code",
   "execution_count": null,
   "metadata": {},
   "outputs": [],
   "source": [
    "cluster = distributed.LocalCluster()\n",
    "client = distributed.Client(cluster)\n",
    "client"
   ]
  },
  {
   "cell_type": "markdown",
   "metadata": {},
   "source": [
    "# Load data"
   ]
  },
  {
   "cell_type": "code",
   "execution_count": null,
   "metadata": {},
   "outputs": [],
   "source": [
    "base_path = '/work/um0203/u300636/for2131/runs/da_enkf_for_soil/'\n",
    "util_dir = '/work/um0203/u300636/for2131/runs/utilities'"
   ]
  },
  {
   "cell_type": "markdown",
   "metadata": {},
   "source": [
    "## Nature run"
   ]
  },
  {
   "cell_type": "code",
   "execution_count": null,
   "metadata": {},
   "outputs": [],
   "source": [
    "vr_h2o_path = os.path.join(base_path, '016', 'h2o_cleaned.nc')\n",
    "vr_h2o = xr.open_dataset(vr_h2o_path)['H2OSOI'].squeeze(drop=True).isel(levsoi=4).chunk((1, 302, 267))"
   ]
  },
  {
   "cell_type": "markdown",
   "metadata": {},
   "source": [
    "## LETKF"
   ]
  },
  {
   "cell_type": "code",
   "execution_count": null,
   "metadata": {},
   "outputs": [],
   "source": [
    "da_h2o_letkf_vr_path = os.path.join(base_path, '020', 'da_offline_3d_enkf_nature.nc')\n",
    "da_h2o_letkf_vr = xr.open_dataset(da_h2o_letkf_vr_path)['H2OSOI'].squeeze(drop=True).chunk((1, 40, 302, 267))"
   ]
  },
  {
   "cell_type": "code",
   "execution_count": null,
   "metadata": {},
   "outputs": [],
   "source": [
    "da_h2o_letkf_1d_path = os.path.join(base_path, '020', 'da_offline_1d_enkf_nature.nc')\n",
    "da_h2o_letkf_1d = xr.open_dataarray(da_h2o_letkf_1d_path).squeeze(drop=True).chunk((1, 302, 267))"
   ]
  },
  {
   "cell_type": "code",
   "execution_count": null,
   "metadata": {},
   "outputs": [],
   "source": [
    "da_h2o_letkf_1d_h2o_path = os.path.join(base_path, '020', 'da_offline_1d_enkf_h2o.nc')\n",
    "da_h2o_letkf_1d_h2o = xr.open_dataarray(da_h2o_letkf_1d_h2o_path).squeeze(drop=True).chunk((1, 302, 267))"
   ]
  },
  {
   "cell_type": "code",
   "execution_count": null,
   "metadata": {},
   "outputs": [],
   "source": [
    "da_h2o_letkf_ana_path = os.path.join(base_path, '020', 'da_offline_3d_enkf.nc')\n",
    "da_h2o_letkf_ana = xr.open_dataarray(da_h2o_letkf_ana_path).squeeze(drop=True).chunk((40, 1, 302, 267))"
   ]
  },
  {
   "cell_type": "markdown",
   "metadata": {},
   "source": [
    "# SEKF"
   ]
  },
  {
   "cell_type": "code",
   "execution_count": null,
   "metadata": {},
   "outputs": [],
   "source": [
    "da_h2o_sekf_vr_path = os.path.join(base_path, '023', 'juwels', 'da_offline_sekf_nature.nc')\n",
    "da_h2o_sekf_vr = xr.open_dataarray(da_h2o_sekf_vr_path).squeeze(drop=True).chunk((1, 302, 267))"
   ]
  },
  {
   "cell_type": "code",
   "execution_count": null,
   "metadata": {},
   "outputs": [],
   "source": [
    "da_h2o_sekf_enkf_path = os.path.join(base_path, '023', 'juwels', 'da_offline_enkf_nature.nc')\n",
    "da_h2o_sekf_enkf = xr.open_dataarray(da_h2o_sekf_enkf_path).squeeze(drop=True).chunk((1, 302, 267))"
   ]
  },
  {
   "cell_type": "code",
   "execution_count": null,
   "metadata": {},
   "outputs": [],
   "source": [
    "da_h2o_sekf_3d_path = os.path.join(base_path, '023', 'juwels', 'da_offline_letkf_nature.nc')\n",
    "da_h2o_sekf_3d = xr.open_dataarray(da_h2o_sekf_3d_path).squeeze(drop=True).chunk((1, 302, 267))"
   ]
  },
  {
   "cell_type": "code",
   "execution_count": null,
   "metadata": {},
   "outputs": [],
   "source": [
    "da_h2o_sekf_ecmwf_path = os.path.join(base_path, '023', 'juwels', 'da_offline_senkf.nc')\n",
    "da_h2o_sekf_ecmwf = xr.open_dataarray(da_h2o_sekf_ecmwf_path).squeeze(drop=True).chunk((1, 302, 267))"
   ]
  },
  {
   "cell_type": "code",
   "execution_count": null,
   "metadata": {},
   "outputs": [],
   "source": [
    "da_h2o_sekf_ana_path = os.path.join(base_path, '023', 'juwels', 'da_offline_sekf.nc')\n",
    "da_h2o_sekf_ana = xr.open_dataarray(da_h2o_sekf_ana_path).squeeze(drop=True).chunk((1, 302, 267))"
   ]
  },
  {
   "cell_type": "code",
   "execution_count": null,
   "metadata": {},
   "outputs": [],
   "source": [
    "da_h2o_letkf_ana['time'] = da_h2o_letkf_1d.indexes['time']\n",
    "da_h2o_sekf_ana['time'] = da_h2o_sekf_vr.indexes['time']"
   ]
  },
  {
   "cell_type": "markdown",
   "metadata": {},
   "source": [
    "# Analyse error sources"
   ]
  },
  {
   "cell_type": "code",
   "execution_count": null,
   "metadata": {},
   "outputs": [],
   "source": [
    "letkf_ana_err = da_h2o_letkf_ana.mean('ensemble') - vr_h2o\n",
    "letkf_vr_err = da_h2o_letkf_vr.mean('ensemble') - vr_h2o\n",
    "letkf_1d_err = da_h2o_letkf_1d - vr_h2o\n",
    "letkf_h2o_err = da_h2o_letkf_1d_h2o - vr_h2o"
   ]
  },
  {
   "cell_type": "code",
   "execution_count": null,
   "metadata": {},
   "outputs": [],
   "source": [
    "sekf_ana_err = da_h2o_sekf_ana - vr_h2o\n",
    "sekf_vr_err = da_h2o_sekf_vr - vr_h2o\n",
    "sekf_ens_err = da_h2o_sekf_enkf - vr_h2o\n",
    "sekf_3d_err = da_h2o_sekf_3d - vr_h2o\n",
    "sekf_ecmwf_err = da_h2o_sekf_ecmwf - vr_h2o"
   ]
  },
  {
   "cell_type": "markdown",
   "metadata": {},
   "source": [
    "## Temporal evolution"
   ]
  },
  {
   "cell_type": "code",
   "execution_count": null,
   "metadata": {},
   "outputs": [],
   "source": [
    "rmse_letkf_ana = np.sqrt((letkf_ana_err[..., 30:-30, 30:-30]**2).mean(dim=['lat', 'lon'])).load()\n",
    "rmse_letkf_vr = np.sqrt((letkf_vr_err[..., 30:-30, 30:-30]**2).mean(dim=['lat', 'lon'])).load()\n",
    "rmse_letkf_1d = np.sqrt((letkf_1d_err[..., 30:-30, 30:-30]**2).mean(dim=['lat', 'lon'])).load()\n",
    "rmse_letkf_h2o = np.sqrt((letkf_h2o_err[..., 30:-30, 30:-30]**2).mean(dim=['lat', 'lon'])).load()\n",
    "rmse_sekf_ana = np.sqrt((sekf_ana_err[..., 30:-30, 30:-30]**2).mean(dim=['lat', 'lon'])).load()\n",
    "rmse_sekf_vr = np.sqrt((sekf_vr_err[..., 30:-30, 30:-30]**2).mean(dim=['lat', 'lon'])).load()\n",
    "rmse_sekf_ens = np.sqrt((sekf_ens_err[..., 30:-30, 30:-30]**2).mean(dim=['lat', 'lon'])).load()\n",
    "rmse_sekf_3d = np.sqrt((sekf_3d_err[..., 30:-30, 30:-30]**2).mean(dim=['lat', 'lon'])).load()\n",
    "rmse_sekf_ecmwf = np.sqrt((sekf_ecmwf_err[..., 30:-30, 30:-30]**2).mean(dim=['lat', 'lon'])).load()"
   ]
  },
  {
   "cell_type": "code",
   "execution_count": null,
   "metadata": {},
   "outputs": [],
   "source": [
    "figsize = [s for s in plt.rcParams['figure.figsize']]\n",
    "figsize[1] *= 0.48\n",
    "\n",
    "fig, ax = plt.subplots(ncols=2, figsize=figsize)\n",
    "ax[0].plot(rmse_sekf_3d.time, rmse_sekf_3d, label='SEKF-3D-EnKF', c='deepskyblue', ls='-.', lw=0.5)\n",
    "ax[0].plot(rmse_sekf_ens.time, rmse_sekf_ens, label='SEKF-1D-EnKF', c='royalblue', ls='--', lw=0.5)\n",
    "ax[0].plot(rmse_sekf_ecmwf.time, rmse_sekf_ecmwf, label='SEKF-ENS', c='firebrick', ls='-.', lw=0.5)\n",
    "ax[0].plot(rmse_sekf_vr.time, rmse_sekf_vr, label='SEKF-nature', c='grey', ls='dotted', lw=0.5)\n",
    "ax[0].plot(rmse_sekf_ana.time, rmse_sekf_ana, label='SEKF-Analysis', c='black', ls='-', lw=0.5)\n",
    "\n",
    "ax[1].plot(rmse_letkf_h2o.time, rmse_letkf_h2o, label='LETKF-1D-H2O', c='salmon', ls='-.', lw=0.5)\n",
    "ax[1].plot(rmse_letkf_1d.time, rmse_letkf_1d, label='LETKF-1D-nature', c='royalblue', ls='--', lw=0.5)\n",
    "ax[1].plot(rmse_letkf_vr.time[1:], rmse_letkf_vr[1:], label='LETKF-3D-nature', c='deepskyblue', ls='-.', lw=0.5)\n",
    "ax[1].plot(rmse_letkf_ana.time, rmse_letkf_ana, label='LETKF-Analysis', c='black', ls='-', lw=0.5)\n",
    "\n",
    "ax[0].text(x=0.02, y=0.98, s='(a)', va='top', ha='left', transform=ax[0].transAxes)\n",
    "ax[1].text(x=0.02, y=0.98, s='(b)', va='top', ha='left', transform=ax[1].transAxes)\n",
    "\n",
    "ax[0].set_ylabel('RMSE (m$^3$/m$^3$)')\n",
    "ax[0].set_ylim(0.00, 0.025)\n",
    "ax[1].set_ylim(0.00, 0.025)\n",
    "ax[0].set_yticks(np.arange(0.0, 0.025, 0.005))\n",
    "ax[1].set_yticks([])\n",
    "\n",
    "ax[0].set_xticks([])\n",
    "ax[0].set_xlim(pd.to_datetime('2015-07-30 18:00'), pd.to_datetime('2015-08-07 06:00'))\n",
    "ax[1].set_xlim(pd.to_datetime('2015-07-31 06:00'), pd.to_datetime('2015-08-08 00:00'))\n",
    "\n",
    "#ax[1].set_xlabel('Time (2015-07-31 – 2015-08-07)')\n",
    "ax[1].xaxis.set_major_locator(mdates.DayLocator(interval=2))\n",
    "ax[1].xaxis.set_major_formatter(mdates.DateFormatter('%m-%d'))\n",
    "\n",
    "#ax[0].set_xlabel('Time (2015-07-31 – 2015-08-07)')\n",
    "ax[0].text(x=1, y=-0.18, s='Time (2015-07-31 – 2015-08-07)', va='center', ha='center', transform=ax[0].transAxes)\n",
    "ax[0].xaxis.set_major_locator(mdates.DayLocator(interval=2))\n",
    "ax[0].xaxis.set_major_formatter(mdates.DateFormatter('%m-%d'))\n",
    "\n",
    "ax[0].legend(ncol=2)\n",
    "ax[1].legend()\n",
    "\n",
    "fig.subplots_adjust(wspace=0)\n",
    "fig.savefig('../figures/fig_07_offline_exp.png', dpi=300)\n",
    "plt.show()"
   ]
  }
 ],
 "metadata": {
  "kernelspec": {
   "display_name": "Python (pytassim-dev)",
   "language": "python",
   "name": "pytassim-dev"
  },
  "language_info": {
   "codemirror_mode": {
    "name": "ipython",
    "version": 3
   },
   "file_extension": ".py",
   "mimetype": "text/x-python",
   "name": "python",
   "nbconvert_exporter": "python",
   "pygments_lexer": "ipython3",
   "version": "3.7.7"
  }
 },
 "nbformat": 4,
 "nbformat_minor": 4
}

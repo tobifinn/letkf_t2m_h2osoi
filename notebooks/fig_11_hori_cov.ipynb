{
 "cells": [
  {
   "cell_type": "code",
   "execution_count": null,
   "metadata": {},
   "outputs": [],
   "source": [
    "import os\n",
    "from copy import deepcopy\n",
    "\n",
    "import xarray as xr\n",
    "import numpy as np\n",
    "import pandas as pd\n",
    "import scipy.stats\n",
    "import scipy.ndimage\n",
    "from tqdm.notebook import tqdm\n",
    "\n",
    "\n",
    "import distributed\n",
    "\n",
    "from cartopy.mpl.ticker import LongitudeFormatter, LatitudeFormatter\n",
    "import matplotlib.pyplot as plt\n",
    "import matplotlib.colors as mplc\n",
    "import cartopy.crs as ccrs\n",
    "import matplotlib.dates as mdates\n",
    "import matplotlib.lines as mpll\n",
    "\n",
    "from pytassim.localization import GaspariCohn\n",
    "from py_bacy.intf_pytassim.clm import distance_func\n",
    "from py_bacy.intf_pytassim.io import load_observations"
   ]
  },
  {
   "cell_type": "code",
   "execution_count": null,
   "metadata": {},
   "outputs": [],
   "source": [
    "rnd = np.random.RandomState(42)"
   ]
  },
  {
   "cell_type": "code",
   "execution_count": null,
   "metadata": {},
   "outputs": [],
   "source": [
    "plt.style.use('paper')\n",
    "plt.style.use('egu_journals')\n",
    "plt.rcParams['text.usetex'] = False\n",
    "rotated_pole = ccrs.RotatedPole(pole_longitude=-171.0, pole_latitude=41.5)\n",
    "plate_carree = ccrs.PlateCarree()"
   ]
  },
  {
   "cell_type": "code",
   "execution_count": null,
   "metadata": {},
   "outputs": [],
   "source": [
    "std_corr = np.sqrt(41 / 40)"
   ]
  },
  {
   "cell_type": "code",
   "execution_count": null,
   "metadata": {},
   "outputs": [],
   "source": [
    "cluster = distributed.LocalCluster(n_workers=4, threads_per_worker=1, memory_limit='16GB')\n",
    "client = distributed.Client(cluster)\n",
    "client"
   ]
  },
  {
   "cell_type": "markdown",
   "metadata": {},
   "source": [
    "# Load data"
   ]
  },
  {
   "cell_type": "code",
   "execution_count": null,
   "metadata": {},
   "outputs": [],
   "source": [
    "base_path = '/work/um0203/u300636/for2131/runs/da_enkf_for_soil'"
   ]
  },
  {
   "cell_type": "markdown",
   "metadata": {},
   "source": [
    "## H2O"
   ]
  },
  {
   "cell_type": "code",
   "execution_count": null,
   "metadata": {},
   "outputs": [],
   "source": [
    "vr_h2o_path = os.path.join(base_path, '016', 'h2o_cleaned.nc')\n",
    "vr_h2o = xr.open_dataset(vr_h2o_path)['H2OSOI'].squeeze(drop=True).isel(levsoi=4).chunk((1, 302, 267))[..., 30:-30, 30:-30]"
   ]
  },
  {
   "cell_type": "code",
   "execution_count": null,
   "metadata": {},
   "outputs": [],
   "source": [
    "da_h2o_path = os.path.join(base_path, '020', 'h2o_cleaned.nc')\n",
    "da_h2o = xr.open_dataset(da_h2o_path)['H2OSOI'].squeeze(drop=True).isel(levsoi=4).chunk((40, 1, 302, 267))[..., 30:-30, 30:-30]"
   ]
  },
  {
   "cell_type": "markdown",
   "metadata": {},
   "source": [
    "## T2m"
   ]
  },
  {
   "cell_type": "code",
   "execution_count": null,
   "metadata": {},
   "outputs": [],
   "source": [
    "vr_t2m_path = os.path.join(base_path, '016', 't2m_cleaned.nc')\n",
    "vr_t2m = xr.open_dataset(vr_t2m_path)['T_2M'].squeeze(drop=True).chunk((1, 109, 99))"
   ]
  },
  {
   "cell_type": "code",
   "execution_count": null,
   "metadata": {},
   "outputs": [],
   "source": [
    "da_t2m_path = os.path.join(base_path, '020', 't2m_cleaned.nc')\n",
    "da_t2m = xr.open_dataset(da_t2m_path)['T_2M'].squeeze(drop=True).chunk((40, 1, 109, 99))"
   ]
  },
  {
   "cell_type": "markdown",
   "metadata": {},
   "source": [
    "## Additional data"
   ]
  },
  {
   "cell_type": "markdown",
   "metadata": {},
   "source": [
    "## Pre-process data"
   ]
  },
  {
   "cell_type": "code",
   "execution_count": null,
   "metadata": {},
   "outputs": [],
   "source": [
    "da_bg_h2o = da_h2o.isel(time=~da_h2o.indexes['time'].duplicated())\n",
    "da_bg_t2m = da_t2m.isel(time=~da_t2m.indexes['time'].duplicated())[:, 1:]\n",
    "vr_h2o = vr_h2o.isel(time=~vr_h2o.indexes['time'].duplicated())\n",
    "vr_t2m = vr_t2m.isel(time=~vr_t2m.indexes['time'].duplicated())[1:]"
   ]
  },
  {
   "cell_type": "markdown",
   "metadata": {},
   "source": [
    "## Get clm coordinates"
   ]
  },
  {
   "cell_type": "code",
   "execution_count": null,
   "metadata": {},
   "outputs": [],
   "source": [
    "prep_clm = da_bg_h2o.stack(grid=['lat', 'lon'])\n",
    "clm_coords_rotated = rotated_pole.transform_points(plate_carree, prep_clm.lon.values, prep_clm.lat.values)\n",
    "clm_rot_index = pd.MultiIndex.from_arrays([clm_coords_rotated[:, 0], clm_coords_rotated[:, 1]], names=['rlon', 'rlat'])\n",
    "clm_rlon = xr.DataArray(clm_coords_rotated[:, 0], coords={'grid': prep_clm.grid}, dims=['grid'])\n",
    "clm_rlat = xr.DataArray(clm_coords_rotated[:, 1], coords={'grid': prep_clm.grid}, dims=['grid'])"
   ]
  },
  {
   "cell_type": "code",
   "execution_count": null,
   "metadata": {},
   "outputs": [],
   "source": [
    "da_bg_t2m = da_bg_t2m.interp(rlon=clm_rlon, rlat=clm_rlat, method='linear').drop(['rlon', 'rlat']).unstack('grid')\n",
    "vr_t2m_interp = vr_t2m.interp(rlon=clm_rlon, rlat=clm_rlat, method='linear').drop(['rlon', 'rlat']).unstack('grid')"
   ]
  },
  {
   "cell_type": "markdown",
   "metadata": {},
   "source": [
    "# Estimate semi-variogram"
   ]
  },
  {
   "cell_type": "code",
   "execution_count": null,
   "metadata": {},
   "outputs": [],
   "source": [
    "t2m_perts = (da_bg_t2m - da_bg_t2m.mean('ensemble')).stack(grid=['lat', 'lon']).reset_index('grid', drop=True)\n",
    "h2o_perts = (da_bg_h2o - da_bg_h2o.mean('ensemble')).stack(grid=['lat', 'lon']).reset_index('grid', drop=True)\n",
    "\n",
    "t2m_err = (da_bg_t2m.mean('ensemble') - vr_t2m_interp).stack(grid=['lat', 'lon']).reset_index('grid', drop=True)\n",
    "h2o_err = (da_bg_h2o.mean('ensemble') - vr_h2o).stack(grid=['lat', 'lon']).reset_index('grid', drop=True)"
   ]
  },
  {
   "cell_type": "code",
   "execution_count": null,
   "metadata": {},
   "outputs": [],
   "source": [
    "def estimate_dist(idx_first, idx_second):\n",
    "    lat_dist = (clm_rlat.isel(grid=idx_first).values-clm_rlat.isel(grid=idx_second).values)**2\n",
    "    lon_dist = (clm_rlon.isel(grid=idx_first).values-clm_rlon.isel(grid=idx_second).values)**2\n",
    "    dist = np.sqrt(lat_dist+lon_dist) * m_per_deg\n",
    "    return dist"
   ]
  },
  {
   "cell_type": "code",
   "execution_count": null,
   "metadata": {},
   "outputs": [],
   "source": [
    "earth_radius = 6378137\n",
    "earth_perim = 2 * np.pi * earth_radius\n",
    "m_per_deg = earth_perim / 360"
   ]
  },
  {
   "cell_type": "code",
   "execution_count": null,
   "metadata": {},
   "outputs": [],
   "source": [
    "nr_samples = 2000000\n",
    "bound = 50000"
   ]
  },
  {
   "cell_type": "code",
   "execution_count": null,
   "metadata": {},
   "outputs": [],
   "source": [
    "idx_first = rnd.choice(len(prep_clm.grid), size=nr_samples)\n",
    "idx_second = rnd.choice(len(prep_clm.grid), size=nr_samples)\n",
    "dist = estimate_dist(idx_first, idx_second)"
   ]
  },
  {
   "cell_type": "code",
   "execution_count": null,
   "metadata": {},
   "outputs": [],
   "source": [
    "too_large = dist > bound\n",
    "nr_large = np.sum(too_large)\n",
    "pbar = tqdm()\n",
    "while nr_large > 0:\n",
    "    idx_first[too_large] = rnd.choice(len(prep_clm.grid), size=nr_large)\n",
    "    idx_second[too_large] = rnd.choice(len(prep_clm.grid), size=nr_large)\n",
    "    dist[:] = estimate_dist(idx_first, idx_second)[None, :]\n",
    "    too_large = dist > bound\n",
    "    nr_large = np.sum(too_large)\n",
    "    pbar.set_postfix(sum=nr_large)\n",
    "    pbar.update()"
   ]
  },
  {
   "cell_type": "code",
   "execution_count": null,
   "metadata": {},
   "outputs": [],
   "source": [
    "sel_t2m_perts = t2m_perts.isel(grid=idx_first)[:, 3::4][:, 6:]\n",
    "sel_h2o_perts = h2o_perts.isel(grid=idx_second)[:, 3::4][:, 6:]\n",
    "\n",
    "sel_t2m_err = t2m_err.isel(grid=idx_first)[3::4][6:]\n",
    "sel_h2o_err = h2o_err.isel(grid=idx_second)[3::4][6:]"
   ]
  },
  {
   "cell_type": "code",
   "execution_count": null,
   "metadata": {},
   "outputs": [],
   "source": [
    "ens_cov = (sel_t2m_perts * sel_h2o_perts).sum('ensemble') / 39\n",
    "\n",
    "ens_cov_gp = ((t2m_perts * h2o_perts).sum('ensemble') / 39).mean('grid') - (t2m_perts.sum('ensemble') / 39).mean('grid') * (h2o_perts.sum('ensemble') / 39).mean('grid')\n",
    "err_cov_gp = (t2m_err * h2o_err).mean('grid') - t2m_err.mean('grid') * h2o_err.mean('grid')"
   ]
  },
  {
   "cell_type": "code",
   "execution_count": null,
   "metadata": {},
   "outputs": [],
   "source": [
    "def get_err_gain(err_t2m, err_h2o, smi, bins=100):\n",
    "    err_prod = err_t2m * err_h2o\n",
    "    bin_err_t2m = scipy.stats.binned_statistic(smi, err_t2m, statistic='mean', bins=bins)[0]\n",
    "    bin_err_h2o = scipy.stats.binned_statistic(smi, err_h2o, statistic='mean', bins=bins)[0]\n",
    "    bin_err_cov = scipy.stats.binned_statistic(smi, err_prod, statistic='mean', bins=bins)[0]\n",
    "    #bin_err_var_t2m = scipy.stats.binned_statistic(smi, err_t2m**2, statistic='mean', bins=bins)[0]\n",
    "    cov = bin_err_cov - bin_err_h2o * bin_err_t2m\n",
    "    return cov"
   ]
  },
  {
   "cell_type": "code",
   "execution_count": null,
   "metadata": {},
   "outputs": [],
   "source": [
    "def exponential(x, a, tau, b):\n",
    "    return a*np.exp(-x/tau) + b"
   ]
  },
  {
   "cell_type": "code",
   "execution_count": null,
   "metadata": {},
   "outputs": [],
   "source": [
    "dist_bins = np.arange(0, 51000, 2000)\n",
    "plot_bins = dist_bins[:-1] + (dist_bins[1]-dist_bins[0]) / 2\n",
    "nr_bins = scipy.stats.binned_statistic(dist, np.ones_like(dist), statistic='sum', bins=dist_bins)[0]"
   ]
  },
  {
   "cell_type": "code",
   "execution_count": null,
   "metadata": {},
   "outputs": [],
   "source": [
    "localisation = GaspariCohn(15000, dist_func=lambda x, y: y)"
   ]
  },
  {
   "cell_type": "code",
   "execution_count": null,
   "metadata": {},
   "outputs": [],
   "source": [
    "loc_weights = localisation.localize_obs(np.array([0]), dist)[1]"
   ]
  },
  {
   "cell_type": "code",
   "execution_count": null,
   "metadata": {},
   "outputs": [],
   "source": [
    "time_noon = pd.to_datetime('2015-08-01 12:00')\n",
    "time_night = pd.to_datetime('2015-08-01 19:00')\n",
    "time_morning = pd.to_datetime('2015-08-03 06:00')\n",
    "\n",
    "figsize = [s*0.48 for s in plt.rcParams['figure.figsize']]\n",
    "plt.rcParams['lines.linewidth'] = 0.8\n",
    "fig, ax = plt.subplots(figsize=figsize)\n",
    "\n",
    "err_gain = get_err_gain(sel_t2m_err.sel(time=time_noon).values, sel_h2o_err.sel(time=time_noon).values, dist, dist_bins)\n",
    "decorr_noon = scipy.optimize.curve_fit(exponential, plot_bins, err_gain, p0=[0.005, 15000, -0.003])[0][1]\n",
    "_ = ax.plot(plot_bins, err_gain, c='#FF504F', label=time_noon.strftime('%m/%d %H%M UTC'))\n",
    "\n",
    "\n",
    "err_gain = get_err_gain(sel_t2m_err.sel(time=time_night).values, sel_h2o_err.sel(time=time_night).values, dist, dist_bins)\n",
    "_ = ax.plot(plot_bins, err_gain, c='#4488B3', label=time_night.strftime('%m/%d %H%M UTC'))\n",
    "#_ = ax.axvline(x=decorr, c='C1')\n",
    "\n",
    "err_gain = get_err_gain(sel_t2m_err.sel(time=time_morning).values, sel_h2o_err.sel(time=time_morning).values, dist, dist_bins)\n",
    "decorr_morn = scipy.optimize.curve_fit(exponential, plot_bins, err_gain, p0=[0.005, 15000, -0.003])[0][1]\n",
    "_ = ax.plot(plot_bins, err_gain, c='#7ACCFF', label=time_morning.strftime('%m/%d %H%M UTC'))\n",
    "\n",
    "\n",
    "binned_mean = scipy.stats.binned_statistic(dist, ens_cov.sel(time=time_noon).values, statistic='mean', bins=dist_bins)[0]\n",
    "mean_ens_plt = ax.plot(plot_bins, binned_mean, c='#FF504F', label='Mean Ens gain', ls='dashed')\n",
    "loc_mean = scipy.stats.binned_statistic(dist, loc_weights*ens_cov.sel(time=time_noon).values, statistic='mean', bins=dist_bins)[0]\n",
    "mean_ens_plt = ax.plot(plot_bins, loc_mean, c='#FF504F', alpha=.5, label='Mean Ens gain', ls='dotted')\n",
    "\n",
    "binned_mean = scipy.stats.binned_statistic(dist, ens_cov.sel(time=time_night).values, statistic='mean', bins=dist_bins)[0]\n",
    "mean_ens_plt = ax.plot(plot_bins, binned_mean, c='#4488B3', label='Mean Ens gain', ls='dashed')\n",
    "loc_mean = scipy.stats.binned_statistic(dist, loc_weights*ens_cov.sel(time=time_night).values, statistic='mean', bins=dist_bins)[0]\n",
    "mean_ens_plt = ax.plot(plot_bins, loc_mean, c='#4488B3', alpha=.5, label='Mean Ens gain', ls='dotted')\n",
    "\n",
    "binned_mean = scipy.stats.binned_statistic(dist, ens_cov.sel(time=time_morning).values, statistic='mean', bins=dist_bins)[0]\n",
    "mean_ens_plt = ax.plot(plot_bins, binned_mean, c='#7ACCFF', label='Mean Ens gain', ls='dashed')\n",
    "loc_mean = scipy.stats.binned_statistic(dist, loc_weights*ens_cov.sel(time=time_morning).values, statistic='mean', bins=dist_bins)[0]\n",
    "mean_ens_plt = ax.plot(plot_bins, loc_mean, c='#7ACCFF', alpha=.5, label='Mean Ens gain', ls='dotted')\n",
    "\n",
    "_ = ax.axhline(y=0, c='black', alpha=0.5)\n",
    "\n",
    "_ = ax.axvline(x=15000, c='black', label='Localization radius')\n",
    "#_ = ax.axvline(x=decorr_noon, c='C0')\n",
    "#_ = ax.axvline(x=decorr_morn, c='C2')\n",
    "\n",
    "ax.set_ylabel(r'Covariance (K m$^3$/m$^3$)')\n",
    "ax.set_xlabel(r'Horizontal Distance (m)')\n",
    "ax.set_xlim(0, 40000)\n",
    "ax.ticklabel_format(style='plain', useOffset=False, axis='x')\n",
    "\n",
    "own_handles = [\n",
    "    mpll.Line2D([0], [0], color='black', lw=2, label='Error cov'),\n",
    "    mpll.Line2D([0], [0], color='black', lw=2, ls='--', label='Ensemble cov'),\n",
    "    mpll.Line2D([0], [0], color='black', alpha=0.5, lw=2, ls='dotted', label='Localised ensemble cov'),\n",
    "    #mpll.Line2D([0], [0], color='white', lw=0, label=''),\n",
    "    mpll.Line2D([0], [0], color='#FF504F', lw=1, label=time_noon.strftime('%m/%d %H%M UTC')),\n",
    "    mpll.Line2D([0], [0], color='#4488B3', lw=1, label=time_night.strftime('%m/%d %H%M UTC')),\n",
    "    mpll.Line2D([0], [0], color='#7ACCFF', lw=1, label=time_morning.strftime('%m/%d %H%M UTC')),\n",
    "]\n",
    "legend = ax.legend(\n",
    "    loc='lower center', bbox_to_anchor=(0.446, 1.07), handles=own_handles, ncol=2\n",
    ")\n",
    "legend.get_frame().set_linewidth(0.8)\n",
    "\n",
    "plt.show()\n",
    "fig.savefig('../figures/fig_11_covariance_dist.png', dpi=300)"
   ]
  }
 ],
 "metadata": {
  "kernelspec": {
   "display_name": "Python (pytassim-dev)",
   "language": "python",
   "name": "pytassim-dev"
  },
  "language_info": {
   "codemirror_mode": {
    "name": "ipython",
    "version": 3
   },
   "file_extension": ".py",
   "mimetype": "text/x-python",
   "name": "python",
   "nbconvert_exporter": "python",
   "pygments_lexer": "ipython3",
   "version": "3.7.7"
  }
 },
 "nbformat": 4,
 "nbformat_minor": 4
}

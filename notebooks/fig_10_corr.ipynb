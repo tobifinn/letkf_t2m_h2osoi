{
 "cells": [
  {
   "cell_type": "code",
   "execution_count": null,
   "metadata": {},
   "outputs": [],
   "source": [
    "import os\n",
    "from copy import deepcopy\n",
    "\n",
    "import xarray as xr\n",
    "import numpy as np\n",
    "import pandas as pd\n",
    "import scipy.stats\n",
    "import scipy.ndimage\n",
    "from tqdm import tqdm_notebook as tqdm\n",
    "import scipy.optimize\n",
    "\n",
    "\n",
    "import distributed\n",
    "\n",
    "from cartopy.mpl.ticker import LongitudeFormatter, LatitudeFormatter\n",
    "import matplotlib.pyplot as plt\n",
    "import matplotlib.colors as mplc\n",
    "import cartopy.crs as ccrs\n",
    "import matplotlib.dates as mdates\n",
    "import matplotlib.lines as mpll"
   ]
  },
  {
   "cell_type": "code",
   "execution_count": null,
   "metadata": {},
   "outputs": [],
   "source": [
    "rnd = np.random.RandomState(42)"
   ]
  },
  {
   "cell_type": "code",
   "execution_count": null,
   "metadata": {},
   "outputs": [],
   "source": [
    "plt.style.use('paper')\n",
    "plt.style.use('egu_journals')\n",
    "plt.rcParams['text.usetex'] = False\n",
    "rotated_pole = ccrs.RotatedPole(pole_longitude=-171.0, pole_latitude=41.5)\n",
    "plate_carree = ccrs.PlateCarree()"
   ]
  },
  {
   "cell_type": "code",
   "execution_count": null,
   "metadata": {},
   "outputs": [],
   "source": [
    "std_corr = np.sqrt(41 / 40)\n",
    "DENSITY = 1000\n",
    "RL = 287.05\n",
    "RW = 461.45\n",
    "LAM_VAP = 2.501E6\n",
    "CP = 1.00464E3"
   ]
  },
  {
   "cell_type": "code",
   "execution_count": null,
   "metadata": {},
   "outputs": [],
   "source": [
    "cluster = distributed.LocalCluster(local_directory='/tmp')\n",
    "client = distributed.Client(cluster)\n",
    "client"
   ]
  },
  {
   "cell_type": "markdown",
   "metadata": {},
   "source": [
    "# Load data"
   ]
  },
  {
   "cell_type": "code",
   "execution_count": null,
   "metadata": {},
   "outputs": [],
   "source": [
    "base_path = '/work/um0203/u300636/for2131/runs/da_enkf_for_soil'"
   ]
  },
  {
   "cell_type": "markdown",
   "metadata": {},
   "source": [
    "## H2O"
   ]
  },
  {
   "cell_type": "code",
   "execution_count": null,
   "metadata": {},
   "outputs": [],
   "source": [
    "da_h2o_path = os.path.join(base_path, '020', 'h2o_cleaned.nc')\n",
    "da_h2o = xr.open_dataset(da_h2o_path)['H2OSOI'].squeeze(drop=True).isel(levsoi=4).chunk((40, 1, 302, 267))[..., 30:-30, 30:-30]"
   ]
  },
  {
   "cell_type": "code",
   "execution_count": null,
   "metadata": {},
   "outputs": [],
   "source": [
    "da_fluxes_path = os.path.join(base_path, '020', 'fluxes.nc')\n",
    "da_fluxes = xr.open_dataset(da_fluxes_path).squeeze(drop=True).chunk({'ensemble':40, 'time':1, 'lat':302, 'lon':267}).isel(lat=slice(30, -30), lon=slice(30, -30))"
   ]
  },
  {
   "cell_type": "markdown",
   "metadata": {},
   "source": [
    "## T2m"
   ]
  },
  {
   "cell_type": "code",
   "execution_count": null,
   "metadata": {},
   "outputs": [],
   "source": [
    "da_t2m_path = os.path.join(base_path, '020', 't2m_cleaned.nc')\n",
    "da_t2m = xr.open_dataset(da_t2m_path)['T_2M'].squeeze(drop=True).chunk((40, 1, 109, 99))"
   ]
  },
  {
   "cell_type": "code",
   "execution_count": null,
   "metadata": {},
   "outputs": [],
   "source": [
    "da_rh2m_path = os.path.join(base_path, '020', 'rh2m.nc')\n",
    "da_rh2m = xr.open_dataset(da_rh2m_path)['RELHUM_2M'].squeeze(drop=True).chunk((40, 1, 109, 99))"
   ]
  },
  {
   "cell_type": "markdown",
   "metadata": {},
   "source": [
    "## Additional data"
   ]
  },
  {
   "cell_type": "code",
   "execution_count": null,
   "metadata": {},
   "outputs": [],
   "source": [
    "const_path = '/work/um0203/u300636/for2131/runs/utilities/clm_aux.nc'\n",
    "const_data = xr.open_dataset(const_path).isel(time=0)\n",
    "sat_point = const_data['WATSAT'].isel(levsoi=4)[..., 30:-30, 30:-30]"
   ]
  },
  {
   "cell_type": "markdown",
   "metadata": {},
   "source": [
    "## Pre-process data"
   ]
  },
  {
   "cell_type": "code",
   "execution_count": null,
   "metadata": {},
   "outputs": [],
   "source": [
    "da_bg_t2m = da_t2m.isel(time=~da_t2m.indexes['time'].duplicated())[:, 1:]"
   ]
  },
  {
   "cell_type": "markdown",
   "metadata": {},
   "source": [
    "## Get clm coordinates"
   ]
  },
  {
   "cell_type": "code",
   "execution_count": null,
   "metadata": {},
   "outputs": [],
   "source": [
    "prep_clm = da_h2o.stack(grid=['lat', 'lon'])\n",
    "clm_coords_rotated = rotated_pole.transform_points(plate_carree, prep_clm.lon.values, prep_clm.lat.values)\n",
    "clm_rot_index = pd.MultiIndex.from_arrays([clm_coords_rotated[:, 0], clm_coords_rotated[:, 1]], names=['rlon', 'rlat'])\n",
    "clm_rlon = xr.DataArray(clm_coords_rotated[:, 0], coords={'grid': prep_clm.grid}, dims=['grid'])\n",
    "clm_rlat = xr.DataArray(clm_coords_rotated[:, 1], coords={'grid': prep_clm.grid}, dims=['grid'])"
   ]
  },
  {
   "cell_type": "code",
   "execution_count": null,
   "metadata": {},
   "outputs": [],
   "source": [
    "da_bg_t2m = da_bg_t2m.interp(rlon=clm_rlon, rlat=clm_rlat, method='linear').drop(['rlon', 'rlat']).unstack('grid')\n",
    "da_bg_rh2m = da_rh2m.interp(rlon=clm_rlon, rlat=clm_rlat, method='linear').drop(['rlon', 'rlat']).unstack('grid')"
   ]
  },
  {
   "cell_type": "code",
   "execution_count": null,
   "metadata": {},
   "outputs": [],
   "source": [
    "da_sensible = da_fluxes['FSH']"
   ]
  },
  {
   "cell_type": "markdown",
   "metadata": {},
   "source": [
    "## Sensible plot"
   ]
  },
  {
   "cell_type": "code",
   "execution_count": null,
   "metadata": {},
   "outputs": [],
   "source": [
    "def get_cov(x, y, dim='ensemble', ddof=1):\n",
    "    x_perts = x - x.mean(dim=dim)\n",
    "    y_perts = y - y.mean(dim=dim)\n",
    "    \n",
    "    cov = xr.dot(x_perts, y_perts, dims=dim) / (x.count(dim) - ddof)\n",
    "    return cov"
   ]
  },
  {
   "cell_type": "code",
   "execution_count": null,
   "metadata": {},
   "outputs": [],
   "source": [
    "def get_corr(x, y, dim='ensemble'):\n",
    "    cov_mat = get_cov(x, y, dim=dim, ddof=0)\n",
    "    corr_mat = cov_mat / x.std(dim, ddof=0) / y.std(dim, ddof=0)\n",
    "    return corr_mat"
   ]
  },
  {
   "cell_type": "code",
   "execution_count": null,
   "metadata": {},
   "outputs": [],
   "source": [
    "def estimate_water_pressure(temp):\n",
    "    temp_c = temp - 273.15\n",
    "    factor = 17.62 * temp_c / (temp_c + 243.12)\n",
    "    pressure = 611.2 * np.exp(factor)\n",
    "    return pressure"
   ]
  },
  {
   "cell_type": "code",
   "execution_count": null,
   "metadata": {},
   "outputs": [],
   "source": [
    "da_sensible = da_sensible[:, 3::4][:, 6:]\n",
    "da_h2o = da_h2o[:, 3::4][:, 6:]\n",
    "da_bg_t2m = da_bg_t2m.sel(time=da_h2o.time)\n",
    "da_bg_rh2m = da_bg_rh2m.sel(time=da_h2o.time)"
   ]
  },
  {
   "cell_type": "code",
   "execution_count": null,
   "metadata": {},
   "outputs": [],
   "source": [
    "da_smi = da_h2o / sat_point\n",
    "da_e_press = estimate_water_pressure(da_bg_t2m) * da_bg_rh2m / 100"
   ]
  },
  {
   "cell_type": "code",
   "execution_count": null,
   "metadata": {},
   "outputs": [],
   "source": [
    "da_qv = RL / RW * da_e_press / (101325-da_e_press)"
   ]
  },
  {
   "cell_type": "code",
   "execution_count": null,
   "metadata": {},
   "outputs": [],
   "source": [
    "cycle_qv = LAM_VAP * da_qv.groupby('time.hour').mean(['time', 'lat', 'lon', 'ensemble']).roll(hour=1, roll_coords=True).load()\n",
    "cycle_sensible = da_sensible.groupby('time.hour').mean(['time', 'lat', 'lon', 'ensemble']).roll(hour=1, roll_coords=True).load()"
   ]
  },
  {
   "cell_type": "code",
   "execution_count": null,
   "metadata": {},
   "outputs": [],
   "source": [
    "corr_sens = np.tanh(np.arctanh(get_corr(da_sensible, da_bg_t2m)).groupby('time.hour').mean(['time', 'lat', 'lon'])).roll(hour=1, roll_coords=True).load()\n",
    "corr_qv = np.tanh(np.arctanh(get_corr(da_qv, da_bg_t2m)).groupby('time.hour').mean(['time', 'lat', 'lon'])).roll(hour=1, roll_coords=True).load()\n",
    "corr_h2o = np.tanh(np.arctanh(get_corr(da_h2o, da_bg_t2m)).groupby('time.hour').mean(['time', 'lat', 'lon'])).roll(hour=1, roll_coords=True).load()"
   ]
  },
  {
   "cell_type": "code",
   "execution_count": null,
   "metadata": {},
   "outputs": [],
   "source": [
    "def align_yaxis(ax1, v1, ax2, v2):\n",
    "    \"\"\"adjust ax2 ylimit so that v2 in ax2 is aligned to v1 in ax1\"\"\"\n",
    "    _, y1 = ax1.transData.transform((0, v1))\n",
    "    _, y2 = ax2.transData.transform((0, v2))\n",
    "    inv = ax2.transData.inverted()\n",
    "    _, dy = inv.transform((0, 0)) - inv.transform((0, y1-y2))\n",
    "    miny, maxy = ax2.get_ylim()\n",
    "    ax2.set_ylim(miny+dy, maxy+dy)"
   ]
  },
  {
   "cell_type": "code",
   "execution_count": null,
   "metadata": {},
   "outputs": [],
   "source": [
    "figsize = [s for s in plt.rcParams['figure.figsize']]\n",
    "figsize[0] *= 0.48\n",
    "fig, ax = plt.subplots(nrows=2, figsize=figsize)\n",
    "\n",
    "ax[0].axhline(c='black', lw=0.5)\n",
    "ax[1].axhline(c='black', lw=0.5)\n",
    "\n",
    "ax[0].plot(np.arange(-1, 23), corr_sens, lw=0.8, c='salmon', label='Sensible')\n",
    "ax[0].plot(np.arange(-1, 23), corr_qv, lw=0.8, c='C0', label='QV2m')\n",
    "h2o_plt = ax[0].plot(np.arange(-1, 23), corr_h2o, lw=0.8, c='black', label=r'H2O$_{soil}$')\n",
    "\n",
    "lam_plt = ax[1].plot(np.arange(-1, 23), cycle_qv-cycle_qv[0], lw=0.8, c='C0', label=r'$\\lambda_{vap}$ * QV2m')\n",
    "\n",
    "flux_ax = ax[1].twinx()\n",
    "sen_plt = flux_ax.plot(np.arange(-1, 23), cycle_sensible, lw=0.8, c='salmon', label='Sensible')\n",
    "\n",
    "ax[0].text(x=0.02, y=0.98, s='a)', transform=ax[0].transAxes, va='top', ha='left')\n",
    "ax[1].text(x=0.02, y=0.98, s='b)', transform=ax[1].transAxes, va='top', ha='left')\n",
    "\n",
    "legend = ax[0].legend(handles=[sen_plt[0], lam_plt[0], h2o_plt[0]], loc=8, fancybox=False, edgecolor='black',\n",
    "                      ncol=3, bbox_to_anchor=(0.42, 1.0))\n",
    "legend.get_frame().set_linewidth(0.8)\n",
    "\n",
    "ax[1].set_ylabel(r'$\\Delta$ Heat content (J/kg)')\n",
    "flux_ax.spines[\"left\"].set_position((\"axes\", -0.3))\n",
    "flux_ax.yaxis.tick_left()\n",
    "flux_ax.yaxis.set_label_position('left')\n",
    "flux_ax.set_ylabel('Heat flux (W/m$^2$)')\n",
    "#flux_ax.spines['right'].set_visible(True)\n",
    "flux_ax.set_ylim(-100, 200)\n",
    "\n",
    "align_yaxis(ax[1], 0, flux_ax, 0)\n",
    "\n",
    "ax[0].set_ylabel('Correlation to T2m')\n",
    "ax[0].set_ylim(-1, 1)\n",
    "ax[0].set_yticks(np.arange(-0.75, 1, 0.25))\n",
    "ax[0].spines['bottom'].set_visible(True)\n",
    "ax[0].set_xticks([])\n",
    "ax[0].set_xlim(-2, 23)\n",
    "\n",
    "ax[1].set_xlim(-2, 23)\n",
    "ax[1].set_xlabel('Time of day (UTC)')\n",
    "ax[1].set_xticks(np.arange(0, 24, 6))\n",
    "\n",
    "fig.align_ylabels(ax)\n",
    "fig.subplots_adjust(hspace=0.005, wspace=0)\n",
    "\n",
    "fig.savefig('../figures/fig_10_cycle_corr.png', dpi=300)"
   ]
  },
  {
   "cell_type": "code",
   "execution_count": null,
   "metadata": {},
   "outputs": [],
   "source": []
  }
 ],
 "metadata": {
  "kernelspec": {
   "display_name": "Python [conda env:analysis]",
   "language": "python",
   "name": "conda-env-analysis-py"
  },
  "language_info": {
   "codemirror_mode": {
    "name": "ipython",
    "version": 3
   },
   "file_extension": ".py",
   "mimetype": "text/x-python",
   "name": "python",
   "nbconvert_exporter": "python",
   "pygments_lexer": "ipython3",
   "version": "3.7.7"
  }
 },
 "nbformat": 4,
 "nbformat_minor": 4
}

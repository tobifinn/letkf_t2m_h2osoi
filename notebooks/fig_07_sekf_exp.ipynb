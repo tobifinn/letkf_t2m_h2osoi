{
 "cells": [
  {
   "cell_type": "code",
   "execution_count": null,
   "metadata": {},
   "outputs": [],
   "source": [
    "import os\n",
    "import pickle as pk\n",
    "from ipywidgets import interact\n",
    "from copy import deepcopy\n",
    "\n",
    "from tqdm import tqdm_notebook as tqdm\n",
    "\n",
    "import xarray as xr\n",
    "import numpy as np\n",
    "import pandas as pd\n",
    "\n",
    "import distributed\n",
    "\n",
    "from cartopy.mpl.ticker import LongitudeFormatter, LatitudeFormatter\n",
    "import matplotlib.pyplot as plt\n",
    "import matplotlib.colors as mplc\n",
    "import cartopy.crs as ccrs\n",
    "import matplotlib.dates as mdates\n",
    "from pandas.plotting import register_matplotlib_converters"
   ]
  },
  {
   "cell_type": "code",
   "execution_count": null,
   "metadata": {},
   "outputs": [],
   "source": [
    "rnd = np.random.RandomState(42)"
   ]
  },
  {
   "cell_type": "code",
   "execution_count": null,
   "metadata": {},
   "outputs": [],
   "source": [
    "DENSITY = 1000"
   ]
  },
  {
   "cell_type": "code",
   "execution_count": null,
   "metadata": {},
   "outputs": [],
   "source": [
    "plt.style.use('paper')\n",
    "plt.style.use('egu_journals')\n",
    "register_matplotlib_converters()\n",
    "plt.rcParams['text.usetex'] = False"
   ]
  },
  {
   "cell_type": "code",
   "execution_count": null,
   "metadata": {},
   "outputs": [],
   "source": [
    "rotated_pole = ccrs.RotatedPole(pole_longitude=-171.0, pole_latitude=41.5)\n",
    "plate_carree = ccrs.PlateCarree()"
   ]
  },
  {
   "cell_type": "code",
   "execution_count": null,
   "metadata": {},
   "outputs": [],
   "source": [
    "cluster = distributed.LocalCluster(n_workers=40, threads_per_worker=1, memory_limit='2GB')\n",
    "client = distributed.Client(cluster)\n",
    "client"
   ]
  },
  {
   "cell_type": "markdown",
   "metadata": {},
   "source": [
    "# Load data"
   ]
  },
  {
   "cell_type": "code",
   "execution_count": null,
   "metadata": {},
   "outputs": [],
   "source": [
    "base_path = '/work/um0203/u300636/for2131/runs/da_enkf_for_soil/'\n",
    "util_dir = '/work/um0203/u300636/for2131/runs/utilities'"
   ]
  },
  {
   "cell_type": "markdown",
   "metadata": {},
   "source": [
    "## Nature run"
   ]
  },
  {
   "cell_type": "code",
   "execution_count": null,
   "metadata": {},
   "outputs": [],
   "source": [
    "vr_h2o_path = os.path.join(base_path, '016', 'h2o_cleaned.nc')\n",
    "vr_h2o = xr.open_dataset(vr_h2o_path)['H2OSOI'].squeeze(drop=True).isel(levsoi=4).chunk((1, 302, 267))"
   ]
  },
  {
   "cell_type": "markdown",
   "metadata": {},
   "source": [
    "# SEKF"
   ]
  },
  {
   "cell_type": "code",
   "execution_count": null,
   "metadata": {},
   "outputs": [],
   "source": [
    "da_h2o_sekf_vr_path = os.path.join(base_path, '023', 'juwels', 'da_offline_sekf_nature.nc')\n",
    "da_h2o_sekf_vr = xr.open_dataarray(da_h2o_sekf_vr_path).squeeze(drop=True).isel(time=0).chunk((302, 267))"
   ]
  },
  {
   "cell_type": "code",
   "execution_count": null,
   "metadata": {},
   "outputs": [],
   "source": [
    "da_h2o_sekf_ens_path = os.path.join(base_path, '023', 'juwels', 'da_offline_sekf_ens_nature.nc')\n",
    "da_h2o_sekf_ens = xr.open_dataarray(da_h2o_sekf_ens_path).squeeze(drop=True).isel(time=0).chunk((302, 267))"
   ]
  },
  {
   "cell_type": "code",
   "execution_count": null,
   "metadata": {},
   "outputs": [],
   "source": [
    "da_h2o_sekf_enkf_path = os.path.join(base_path, '023', 'juwels', 'da_offline_enkf_nature.nc')\n",
    "da_h2o_sekf_enkf = xr.open_dataarray(da_h2o_sekf_enkf_path).squeeze(drop=True).isel(time=0).chunk((302, 267))"
   ]
  },
  {
   "cell_type": "code",
   "execution_count": null,
   "metadata": {},
   "outputs": [],
   "source": [
    "da_h2o_sekf_3d_path = os.path.join(base_path, '023', 'juwels', 'da_offline_letkf_nature.nc')\n",
    "da_h2o_sekf_3d = xr.open_dataarray(da_h2o_sekf_3d_path).squeeze(drop=True).isel(time=0).chunk((302, 267))"
   ]
  },
  {
   "cell_type": "code",
   "execution_count": null,
   "metadata": {},
   "outputs": [],
   "source": [
    "da_h2o_sekf_h2o_path = os.path.join(base_path, '023', 'juwels', 'da_offline_enkf_h2o.nc')\n",
    "da_h2o_sekf_h2o = xr.open_dataarray(da_h2o_sekf_h2o_path).squeeze(drop=True).isel(time=0).chunk((302, 267))"
   ]
  },
  {
   "cell_type": "code",
   "execution_count": null,
   "metadata": {},
   "outputs": [],
   "source": [
    "da_h2o_sekf_ana_path = os.path.join(base_path, '023', 'juwels', 'da_offline_sekf.nc')\n",
    "da_h2o_sekf_ana = xr.open_dataarray(da_h2o_sekf_ana_path).squeeze(drop=True).isel(time=0).chunk((302, 267))"
   ]
  },
  {
   "cell_type": "code",
   "execution_count": null,
   "metadata": {},
   "outputs": [],
   "source": [
    "bg_h2o_path = os.path.join(base_path, '023', 'juwels', 'h2o_cleaned.nc')\n",
    "bg_h2o = xr.open_dataarray(bg_h2o_path).squeeze(drop=True).sel(time='2015-07-31 00:00').isel(levsoi=4).chunk((302, 267))"
   ]
  },
  {
   "cell_type": "code",
   "execution_count": null,
   "metadata": {},
   "outputs": [],
   "source": [
    "gain_orig_path = os.path.join(base_path, '023', 'juwels', 'gain_orig_sekf.nc')\n",
    "gain_orig = xr.open_dataarray(gain_orig_path).squeeze(drop=True)"
   ]
  },
  {
   "cell_type": "code",
   "execution_count": null,
   "metadata": {},
   "outputs": [],
   "source": [
    "gain_sekf_path = os.path.join(base_path, '023', 'juwels', 'da_offline_gain_sekf.nc')\n",
    "gain_sekf = xr.open_dataarray(gain_sekf_path).squeeze(drop=True)"
   ]
  },
  {
   "cell_type": "code",
   "execution_count": null,
   "metadata": {},
   "outputs": [],
   "source": [
    "gain_enkf_path = os.path.join(base_path, '023', 'juwels', 'da_offline_gain_enkf.nc')\n",
    "gain_enkf = xr.open_dataarray(gain_enkf_path).squeeze(drop=True)"
   ]
  },
  {
   "cell_type": "markdown",
   "metadata": {},
   "source": [
    "# Analyse error sources"
   ]
  },
  {
   "cell_type": "code",
   "execution_count": null,
   "metadata": {},
   "outputs": [],
   "source": [
    "sekf_ana_err = da_h2o_sekf_ana - vr_h2o\n",
    "sekf_vr_err = da_h2o_sekf_vr - vr_h2o\n",
    "sekf_vr_ens_err = da_h2o_sekf_ens - vr_h2o\n",
    "sekf_enkf_err = da_h2o_sekf_enkf - vr_h2o\n",
    "sekf_3d_err = da_h2o_sekf_3d - vr_h2o\n",
    "sekf_h2o_err = da_h2o_sekf_h2o - vr_h2o"
   ]
  },
  {
   "cell_type": "code",
   "execution_count": null,
   "metadata": {},
   "outputs": [],
   "source": [
    "sekf_ana_inc = da_h2o_sekf_ana - bg_h2o\n",
    "sekf_vr_inc = da_h2o_sekf_vr - bg_h2o\n",
    "sekf_vr_ens_inc = da_h2o_sekf_ens - bg_h2o\n",
    "sekf_enkf_inc = da_h2o_sekf_enkf - bg_h2o\n",
    "sekf_3d_inc = da_h2o_sekf_3d - bg_h2o\n",
    "sekf_h2o_inc = da_h2o_sekf_h2o - bg_h2o"
   ]
  },
  {
   "cell_type": "code",
   "execution_count": null,
   "metadata": {},
   "outputs": [],
   "source": [
    "def calc_bounds(grid):\n",
    "    grid_delta = np.mean(np.diff(grid))\n",
    "    new_grid = np.concatenate((grid, [grid[-1]+grid_delta]), axis=0)\n",
    "    new_grid -= grid_delta / 2\n",
    "    return new_grid\n",
    "\n",
    "def calc_pcolormesh_grid(*orig_grid):\n",
    "    new_grids = tuple([calc_bounds(g) for g in orig_grid])\n",
    "    return new_grids"
   ]
  },
  {
   "cell_type": "code",
   "execution_count": null,
   "metadata": {},
   "outputs": [],
   "source": [
    "pcm_lon_lat = calc_pcolormesh_grid(sekf_ana_inc.lon.values, sekf_ana_inc.lat.values)\n",
    "cmap = plt.get_cmap('BrBG')\n",
    "norm = mplc.BoundaryNorm(np.linspace(-0.075, 0.075, 51), cmap.N, clip=True)"
   ]
  },
  {
   "cell_type": "code",
   "execution_count": null,
   "metadata": {},
   "outputs": [],
   "source": [
    "fig, ax = plt.subplots()\n",
    "cf = ax.pcolormesh(*pcm_lon_lat, sekf_ana_inc, vmin=-0.075, vmax=0.075, cmap=cmap)\n",
    "fig.colorbar(cf)"
   ]
  },
  {
   "cell_type": "code",
   "execution_count": null,
   "metadata": {},
   "outputs": [],
   "source": [
    "fig, ax = plt.subplots()\n",
    "cf = ax.pcolormesh(*pcm_lon_lat, sekf_vr_inc, vmin=-0.075, vmax=0.075, cmap=cmap)\n",
    "fig.colorbar(cf)"
   ]
  },
  {
   "cell_type": "code",
   "execution_count": null,
   "metadata": {},
   "outputs": [],
   "source": [
    "fig, ax = plt.subplots()\n",
    "cf = ax.pcolormesh(*pcm_lon_lat, sekf_3d_inc, vmin=-0.075, vmax=0.075, cmap=cmap)\n",
    "fig.colorbar(cf)"
   ]
  },
  {
   "cell_type": "code",
   "execution_count": null,
   "metadata": {},
   "outputs": [],
   "source": [
    "fig, ax = plt.subplots()\n",
    "cf = ax.pcolormesh(*pcm_lon_lat, gain_orig.isel(time=0), vmin=-0.1, vmax=0.1, cmap=cmap)\n",
    "fig.colorbar(cf)"
   ]
  },
  {
   "cell_type": "code",
   "execution_count": null,
   "metadata": {},
   "outputs": [],
   "source": [
    "fig, ax = plt.subplots()\n",
    "cf = ax.pcolormesh(*pcm_lon_lat, gain_sekf.isel(time=0), vmin=-0.1, vmax=0.1, cmap=cmap)\n",
    "fig.colorbar(cf)"
   ]
  },
  {
   "cell_type": "code",
   "execution_count": null,
   "metadata": {},
   "outputs": [],
   "source": []
  }
 ],
 "metadata": {
  "kernelspec": {
   "display_name": "Python (pytassim-dev)",
   "language": "python",
   "name": "pytassim-dev"
  },
  "language_info": {
   "codemirror_mode": {
    "name": "ipython",
    "version": 3
   },
   "file_extension": ".py",
   "mimetype": "text/x-python",
   "name": "python",
   "nbconvert_exporter": "python",
   "pygments_lexer": "ipython3",
   "version": "3.7.7"
  }
 },
 "nbformat": 4,
 "nbformat_minor": 4
}

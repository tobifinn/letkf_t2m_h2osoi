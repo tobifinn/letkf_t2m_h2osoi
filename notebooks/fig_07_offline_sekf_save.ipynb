{
 "cells": [
  {
   "cell_type": "code",
   "execution_count": null,
   "metadata": {},
   "outputs": [],
   "source": [
    "import os\n",
    "import pickle as pk\n",
    "from ipywidgets import interact\n",
    "from copy import deepcopy\n",
    "\n",
    "from tqdm import tqdm_notebook as tqdm\n",
    "\n",
    "import xarray as xr\n",
    "import numpy as np\n",
    "import pandas as pd\n",
    "\n",
    "import cartopy.crs as ccrs\n",
    "import matplotlib.pyplot as plt\n",
    "\n",
    "import distributed\n",
    "\n",
    "from pytassim.localization import GaspariCohn"
   ]
  },
  {
   "cell_type": "code",
   "execution_count": null,
   "metadata": {},
   "outputs": [],
   "source": [
    "rnd = np.random.RandomState(42)"
   ]
  },
  {
   "cell_type": "code",
   "execution_count": null,
   "metadata": {},
   "outputs": [],
   "source": [
    "DENSITY = 1000"
   ]
  },
  {
   "cell_type": "code",
   "execution_count": null,
   "metadata": {},
   "outputs": [],
   "source": [
    "rotated_pole = ccrs.RotatedPole(pole_longitude=-171.0, pole_latitude=41.5)\n",
    "plate_carree = ccrs.PlateCarree()"
   ]
  },
  {
   "cell_type": "code",
   "execution_count": null,
   "metadata": {},
   "outputs": [],
   "source": [
    "client = distributed.Client()\n",
    "client"
   ]
  },
  {
   "cell_type": "markdown",
   "metadata": {},
   "source": [
    "# Load data"
   ]
  },
  {
   "cell_type": "code",
   "execution_count": null,
   "metadata": {},
   "outputs": [],
   "source": [
    "base_path = '/work/um0203/u300636/for2131/runs/da_enkf_for_soil/'\n",
    "util_dir = '/work/um0203/u300636/for2131/runs/utilities'"
   ]
  },
  {
   "cell_type": "markdown",
   "metadata": {},
   "source": [
    "## H2O"
   ]
  },
  {
   "cell_type": "code",
   "execution_count": null,
   "metadata": {},
   "outputs": [],
   "source": [
    "vr_h2o_path = os.path.join(base_path, '016', 'h2o_cleaned.nc')\n",
    "vr_h2o = xr.open_dataset(vr_h2o_path)['H2OSOI'].squeeze(drop=True).isel(levsoi=4).chunk((1, 302, 267))"
   ]
  },
  {
   "cell_type": "code",
   "execution_count": null,
   "metadata": {},
   "outputs": [],
   "source": [
    "ens_h2o_path = os.path.join(base_path, '015', 'h2o_cleaned.nc')\n",
    "ens_h2o = xr.open_dataset(ens_h2o_path)['H2OSOI'].squeeze(drop=True).isel(levsoi=4).chunk((40, 1, 302, 267))"
   ]
  },
  {
   "cell_type": "code",
   "execution_count": null,
   "metadata": {},
   "outputs": [],
   "source": [
    "sekf_h2o_path = os.path.join(base_path, '023', 'juwels', 'h2o_cleaned.nc')\n",
    "sekf_h2o = xr.open_dataset(sekf_h2o_path)['H2OSOI'].squeeze(drop=True).isel(levsoi=4).chunk((1, 302, 267))"
   ]
  },
  {
   "cell_type": "markdown",
   "metadata": {},
   "source": [
    "## T2m"
   ]
  },
  {
   "cell_type": "code",
   "execution_count": null,
   "metadata": {},
   "outputs": [],
   "source": [
    "vr_t2m_path = os.path.join(base_path, '016', 't2m_cleaned.nc')\n",
    "vr_t2m = xr.open_dataset(vr_t2m_path)['T_2M'].squeeze(drop=True).chunk((1, 109, 98))"
   ]
  },
  {
   "cell_type": "code",
   "execution_count": null,
   "metadata": {},
   "outputs": [],
   "source": [
    "ens_t2m_path = os.path.join(base_path, '015', 't2m_cleaned.nc')\n",
    "ens_t2m = xr.open_dataset(ens_t2m_path)['T_2M'].squeeze(drop=True).chunk((40, 1, 109, 98))"
   ]
  },
  {
   "cell_type": "code",
   "execution_count": null,
   "metadata": {},
   "outputs": [],
   "source": [
    "sekf_t2m_path = os.path.join(base_path, '023', 'juwels', 't2m_smoother_cleaned.nc')\n",
    "sekf_t2m = xr.open_dataset(sekf_t2m_path)['T_2M'].squeeze(drop=True).chunk((1, 109, 98))"
   ]
  },
  {
   "cell_type": "code",
   "execution_count": null,
   "metadata": {},
   "outputs": [],
   "source": [
    "const_path = '/work/um0203/u300636/for2131/runs/utilities/clm_aux.nc'\n",
    "const_data = xr.open_dataset(const_path).isel(time=0)\n",
    "level_sat = const_data['WATSAT'].isel(levsoi=4)"
   ]
  },
  {
   "cell_type": "code",
   "execution_count": null,
   "metadata": {},
   "outputs": [],
   "source": [
    "jacob_path = os.path.join(base_path, '023', 'juwels', 'jacobian_cleaned.nc')\n",
    "jacob_sekf = xr.open_dataset(jacob_path)['H2OSOI_LIQ'].squeeze(drop=True).isel(levtot=4).chunk((1, 302, 267))"
   ]
  },
  {
   "cell_type": "code",
   "execution_count": null,
   "metadata": {},
   "outputs": [],
   "source": [
    "gain_path = os.path.join(base_path, '023', 'juwels', 'gain_orig_sekf.nc')\n",
    "gain_sekf = xr.open_dataset(gain_path)['H2OSOI_LIQ'].squeeze(drop=True).chunk((302, 267, 1, )).stack(grid=('lat', 'lon'))"
   ]
  },
  {
   "cell_type": "markdown",
   "metadata": {},
   "source": [
    "## Prepare"
   ]
  },
  {
   "cell_type": "code",
   "execution_count": null,
   "metadata": {},
   "outputs": [],
   "source": [
    "ens_t2m = ens_t2m.sel(time=~ens_t2m.indexes['time'].duplicated())\n",
    "vr_t2m = vr_t2m.sel(time=~vr_t2m.indexes['time'].duplicated())"
   ]
  },
  {
   "cell_type": "code",
   "execution_count": null,
   "metadata": {},
   "outputs": [],
   "source": [
    "ens_t2m['ensemble'] = ens_h2o['ensemble'] = np.arange(40)"
   ]
  },
  {
   "cell_type": "code",
   "execution_count": null,
   "metadata": {},
   "outputs": [],
   "source": [
    "fg_time = sekf_t2m.indexes['time'][12*4-1::12*4][:-1]\n",
    "bg_time = fg_time.normalize()"
   ]
  },
  {
   "cell_type": "markdown",
   "metadata": {},
   "source": [
    "## Create background"
   ]
  },
  {
   "cell_type": "code",
   "execution_count": null,
   "metadata": {},
   "outputs": [],
   "source": [
    "sekf_bg = sekf_h2o.sel(time=bg_time).stack(grid=['lat', 'lon'])\n",
    "sekf_bg = sekf_bg.transpose('time', 'grid')"
   ]
  },
  {
   "cell_type": "code",
   "execution_count": null,
   "metadata": {},
   "outputs": [],
   "source": [
    "ens_bg = ens_h2o.sel(time=bg_time).stack(grid=['lat', 'lon'])\n",
    "ens_bg = ens_bg.transpose('time', 'ensemble', 'grid')"
   ]
  },
  {
   "cell_type": "code",
   "execution_count": null,
   "metadata": {},
   "outputs": [],
   "source": [
    "vr_h2o_stacked = vr_h2o.sel(time=bg_time).stack(grid=['lat', 'lon'])\n",
    "vr_h2o_stacked = vr_h2o_stacked.transpose('time', 'grid')"
   ]
  },
  {
   "cell_type": "markdown",
   "metadata": {},
   "source": [
    "## Create clm coordinates"
   ]
  },
  {
   "cell_type": "code",
   "execution_count": null,
   "metadata": {},
   "outputs": [],
   "source": [
    "clm_coords_rotated = rotated_pole.transform_points(plate_carree, sekf_bg.lon.values, sekf_bg.lat.values)\n",
    "clm_rot_index = pd.MultiIndex.from_arrays([clm_coords_rotated[:, 0], clm_coords_rotated[:, 1]], names=['rlon', 'rlat'])"
   ]
  },
  {
   "cell_type": "code",
   "execution_count": null,
   "metadata": {},
   "outputs": [],
   "source": [
    "clm_rlon = xr.DataArray(clm_coords_rotated[:, 0], coords={'grid': sekf_bg.grid}, dims=['grid'])\n",
    "clm_rlat = xr.DataArray(clm_coords_rotated[:, 1], coords={'grid': sekf_bg.grid}, dims=['grid'])"
   ]
  },
  {
   "cell_type": "markdown",
   "metadata": {},
   "source": [
    "### Get pseudo state"
   ]
  },
  {
   "cell_type": "code",
   "execution_count": null,
   "metadata": {},
   "outputs": [],
   "source": [
    "sekf_fg = sekf_t2m.sel(time=fg_time).drop(['lon', 'lat'])\n",
    "sekf_fg = sekf_fg.interp(rlon=clm_rlon, rlat=clm_rlat, method='linear').drop(['rlon', 'rlat'])\n",
    "sekf_fg = sekf_fg.transpose('time', 'grid')"
   ]
  },
  {
   "cell_type": "code",
   "execution_count": null,
   "metadata": {},
   "outputs": [],
   "source": [
    "ens_fg = ens_t2m.sel(time=fg_time).drop(['lon', 'lat'])\n",
    "ens_fg = ens_fg.interp(rlon=clm_rlon, rlat=clm_rlat, method='linear').drop(['rlon', 'rlat'])\n",
    "ens_fg = ens_fg.transpose('time', 'ensemble', 'grid')"
   ]
  },
  {
   "cell_type": "code",
   "execution_count": null,
   "metadata": {},
   "outputs": [],
   "source": [
    "vr_t2m_interp = vr_t2m.sel(time=fg_time).drop(['lon', 'lat'])\n",
    "vr_t2m_interp = vr_t2m_interp.interp(rlon=clm_rlon, rlat=clm_rlat, method='linear').drop(['rlon', 'rlat'])\n",
    "vr_t2m_interp = vr_t2m_interp.transpose('time', 'grid')"
   ]
  },
  {
   "cell_type": "markdown",
   "metadata": {},
   "source": [
    "# Estimate vertical weight"
   ]
  },
  {
   "cell_type": "code",
   "execution_count": null,
   "metadata": {},
   "outputs": [],
   "source": [
    "EARTH_RADIUS = 6371000\n",
    "DEG_TO_M = 2 * np.pi / 360 * EARTH_RADIUS\n",
    "def distance_func(x, y):\n",
    "    diff_obs_cos_deg = y[:, :-1] - x[:-1]\n",
    "    diff_obs_cos_m = diff_obs_cos_deg * DEG_TO_M\n",
    "    dist_obs_cos_2d = np.sqrt(np.sum(diff_obs_cos_m**2, axis=-1))\n",
    "    dist_obs_vert = np.abs(y[:, -1]-x[-1])\n",
    "    return dist_obs_cos_2d, dist_obs_vert\n",
    "\n",
    "loc_radius = (15000, 0.7)\n",
    "local_gc = GaspariCohn(loc_radius, distance_func)\n",
    "_, vert_weight = local_gc.localize_obs((0, 0, -ens_h2o.levsoi.values), np.array([[0, 0, 0]]))"
   ]
  },
  {
   "cell_type": "markdown",
   "metadata": {},
   "source": [
    "# Get innovation"
   ]
  },
  {
   "cell_type": "code",
   "execution_count": null,
   "metadata": {},
   "outputs": [],
   "source": [
    "innov_t2m = vr_t2m_interp-sekf_fg"
   ]
  },
  {
   "cell_type": "markdown",
   "metadata": {},
   "source": [
    "# Assimilate T2m nature grid point based with finite differences"
   ]
  },
  {
   "cell_type": "code",
   "execution_count": null,
   "metadata": {},
   "outputs": [],
   "source": [
    "b_scale = 0.01\n",
    "obs_cov = 0.01"
   ]
  },
  {
   "cell_type": "code",
   "execution_count": null,
   "metadata": {},
   "outputs": [],
   "source": [
    "sekf_increment = (gain_sekf * innov_t2m).drop('time')"
   ]
  },
  {
   "cell_type": "code",
   "execution_count": null,
   "metadata": {},
   "outputs": [],
   "source": [
    "sekf_analysis = (sekf_bg + sekf_increment).unstack('grid')\n",
    "sekf_analysis = (sekf_analysis / level_sat).clip(min=0, max=1) * level_sat"
   ]
  },
  {
   "cell_type": "code",
   "execution_count": null,
   "metadata": {},
   "outputs": [],
   "source": [
    "sekf_analysis.to_netcdf('/work/um0203/u300636/for2131/runs/da_enkf_for_soil/023/juwels/da_offline_sekf_nature.nc')"
   ]
  },
  {
   "cell_type": "markdown",
   "metadata": {},
   "source": [
    "# Assimilate T2m nature grid point based with ECMWF strategy"
   ]
  },
  {
   "cell_type": "code",
   "execution_count": null,
   "metadata": {},
   "outputs": [],
   "source": [
    "def get_gain(h_jacob, b_scale, obs_cov):\n",
    "    b_matrix = b_scale ** 2\n",
    "    h_jacob = h_jacob.expand_dims('pseudo_time', axis=0)\n",
    "    h_jacob_norm = h_jacob.rename({'pseudo_time': 'pseudo_time_1'})\n",
    "    htr = h_jacob / obs_cov\n",
    "    htrh = (h_jacob_norm * h_jacob).sum(['pseudo_time', 'pseudo_time_1']) / obs_cov\n",
    "    cov_ana = 1 / (1 / b_matrix + htrh)\n",
    "    gain = (cov_ana * htr).squeeze('pseudo_time')\n",
    "    return gain"
   ]
  },
  {
   "cell_type": "code",
   "execution_count": null,
   "metadata": {},
   "outputs": [],
   "source": [
    "def get_cov(x, y, dim='ensemble'):\n",
    "    x_perts = x-x.mean('ensemble')\n",
    "    y_perts = y-y.mean('ensemble')\n",
    "    dot_prod = xr.dot(x_perts, y_perts, dims=dim)\n",
    "    cov = dot_prod / (len(x_perts[dim])-1)\n",
    "    return cov"
   ]
  },
  {
   "cell_type": "code",
   "execution_count": null,
   "metadata": {},
   "outputs": [],
   "source": [
    "cov = get_cov(ens_fg, ens_bg.drop('time'))\n",
    "var = ens_bg.drop('time').var(dim='ensemble', ddof=1)\n",
    "jacob_ens = vert_weight * cov / var\n",
    "jacob_ens = jacob_ens.where(np.abs(jacob_ens)<50, other=0)\n",
    "gain_senkf = get_gain(jacob_ens, b_scale, obs_cov)"
   ]
  },
  {
   "cell_type": "code",
   "execution_count": null,
   "metadata": {},
   "outputs": [],
   "source": [
    "senkf_increment = (gain_senkf * innov_t2m).drop('time')\n",
    "senkf_analysis = (sekf_bg + senkf_increment).unstack('grid')\n",
    "senkf_analysis = (senkf_analysis / level_sat).clip(min=0, max=1) * level_sat\n",
    "senkf_analysis.to_netcdf('/work/um0203/u300636/for2131/runs/da_enkf_for_soil/023/juwels/da_offline_senkf.nc')"
   ]
  },
  {
   "cell_type": "markdown",
   "metadata": {},
   "source": [
    "# Assimilate T2m nature grid point based with EnKF"
   ]
  },
  {
   "cell_type": "code",
   "execution_count": null,
   "metadata": {},
   "outputs": [],
   "source": [
    "bht = get_cov(ens_fg, ens_bg.drop('time'))\n",
    "hbht = ens_fg.var('ensemble', ddof=1)\n",
    "hbht_r = hbht + 0.1 ** 2\n",
    "gain_ens = bht / hbht_r * vert_weight"
   ]
  },
  {
   "cell_type": "code",
   "execution_count": null,
   "metadata": {},
   "outputs": [],
   "source": [
    "ens_sekf_increment = (gain_ens * innov_t2m).drop('time')"
   ]
  },
  {
   "cell_type": "code",
   "execution_count": null,
   "metadata": {},
   "outputs": [],
   "source": [
    "ens_sekf_analysis = (sekf_bg + ens_sekf_increment).unstack('grid')\n",
    "ens_sekf_analysis = (ens_sekf_analysis / level_sat).clip(min=0, max=1) * level_sat"
   ]
  },
  {
   "cell_type": "code",
   "execution_count": null,
   "metadata": {},
   "outputs": [],
   "source": [
    "ens_sekf_analysis.to_netcdf('/work/um0203/u300636/for2131/runs/da_enkf_for_soil/023/juwels/da_offline_enkf_nature.nc')"
   ]
  }
 ],
 "metadata": {
  "kernelspec": {
   "display_name": "Python (pytassim-dev)",
   "language": "python",
   "name": "pytassim-dev"
  },
  "language_info": {
   "codemirror_mode": {
    "name": "ipython",
    "version": 3
   },
   "file_extension": ".py",
   "mimetype": "text/x-python",
   "name": "python",
   "nbconvert_exporter": "python",
   "pygments_lexer": "ipython3",
   "version": "3.7.7"
  }
 },
 "nbformat": 4,
 "nbformat_minor": 4
}
